{
 "cells": [
  {
   "cell_type": "markdown",
   "metadata": {},
   "source": [
    "# TLC AIR Lab Tasks"
   ]
  },
  {
   "cell_type": "markdown",
   "metadata": {},
   "source": [
    "## Task 1\n",
    "Daily aggregates of For-Hire trips from NYC Airports (Newark (EWR), John F. Kennedy (JFK), and LaGuardia (LGA)) comparison between Uber, Lyft, Via, Juno, and Other companies. The following is an analysis for the week of January 8th, 2018 12:00AM to January 15th, 2018 12:00AM comparing the total trips, the number of wheelchair accessible (WAV) vehicles, number of battery electric vehicles (BEV), and number of shared rides."
   ]
  },
  {
   "cell_type": "markdown",
   "metadata": {},
   "source": [
    "#### Visualizations\n",
    "For a simple interactive visualization of the aggregated data, we will use altair"
   ]
  },
  {
   "cell_type": "code",
   "execution_count": 41,
   "metadata": {},
   "outputs": [
    {
     "data": {
      "text/plain": [
       "RendererRegistry.enable('notebook')"
      ]
     },
     "execution_count": 41,
     "metadata": {},
     "output_type": "execute_result"
    }
   ],
   "source": [
    "import altair as alt\n",
    "alt.renderers.enable('notebook')"
   ]
  },
  {
   "cell_type": "markdown",
   "metadata": {},
   "source": [
    "### Trips for January 8 - 15"
   ]
  },
  {
   "cell_type": "markdown",
   "metadata": {},
   "source": [
    "First we clean up the trip records for the week of January 8 - 15. After using the filter feature on the NYC Open Data: View Data platform, we exported it to a CSV file. (https://data.cityofnewyork.us/Transportation/2018-For-Hire-Vehicles-Trip-Data/am94-epxh/ data)"
   ]
  },
  {
   "cell_type": "code",
   "execution_count": 2,
   "metadata": {},
   "outputs": [],
   "source": [
    "import pandas as pd\n",
    "import numpy as np"
   ]
  },
  {
   "cell_type": "code",
   "execution_count": 3,
   "metadata": {},
   "outputs": [],
   "source": [
    "trips_raw = pd.read_csv('2018_For_Hire_Vehicles_Trip_Data_filter.csv')"
   ]
  },
  {
   "cell_type": "markdown",
   "metadata": {},
   "source": [
    "We will only be looking at the trips that started at the NYC airports. (https://data.cityofnewyork.us/Transportation/NYC-Taxi-Zones/d3c5-ddgc)"
   ]
  },
  {
   "cell_type": "code",
   "execution_count": 4,
   "metadata": {},
   "outputs": [],
   "source": [
    "# EWR, JFK, LGA location ID\n",
    "airports = [1, 132, 138]"
   ]
  },
  {
   "cell_type": "code",
   "execution_count": 5,
   "metadata": {},
   "outputs": [],
   "source": [
    "# Filter by airport trips only\n",
    "trips_airport = trips_raw[trips_raw['PUlocationID'].isin(airports)]"
   ]
  },
  {
   "cell_type": "markdown",
   "metadata": {},
   "source": [
    "There are duplicate trip records from the same dispatching base number, with the same pick-up time, drop-off time, and drop-off location. Displayed below are the base numbers with the duplicate copies. We will be removing these from the analysis."
   ]
  },
  {
   "cell_type": "code",
   "execution_count": 6,
   "metadata": {},
   "outputs": [],
   "source": [
    "trip_duplicates = trips_airport[trips_airport.duplicated(keep=False)]"
   ]
  },
  {
   "cell_type": "code",
   "execution_count": 7,
   "metadata": {},
   "outputs": [
    {
     "data": {
      "text/plain": [
       "B02510    1020\n",
       "B01989       2\n",
       "B02426       2\n",
       "Name: dispatching_base_number, dtype: int64"
      ]
     },
     "execution_count": 7,
     "metadata": {},
     "output_type": "execute_result"
    }
   ],
   "source": [
    "trip_duplicates['dispatching_base_number'].value_counts()"
   ]
  },
  {
   "cell_type": "code",
   "execution_count": 8,
   "metadata": {},
   "outputs": [],
   "source": [
    "# Filter out all duplicates\n",
    "trips_airport = trips_airport.drop_duplicates()"
   ]
  },
  {
   "cell_type": "code",
   "execution_count": 49,
   "metadata": {},
   "outputs": [
    {
     "data": {
      "text/plain": [
       "105251"
      ]
     },
     "execution_count": 49,
     "metadata": {},
     "output_type": "execute_result"
    }
   ],
   "source": [
    "len(trips_airport)"
   ]
  },
  {
   "cell_type": "markdown",
   "metadata": {},
   "source": [
    "#### Clean Up Trips Record"
   ]
  },
  {
   "cell_type": "code",
   "execution_count": 50,
   "metadata": {},
   "outputs": [],
   "source": [
    "trips_airport['Day'] = pd.DatetimeIndex(trips_airport['Pickup_DateTime']).strftime(\"%m/%d/%Y\")"
   ]
  },
  {
   "cell_type": "code",
   "execution_count": null,
   "metadata": {},
   "outputs": [],
   "source": []
  },
  {
   "cell_type": "markdown",
   "metadata": {},
   "source": [
    "### Active For-Hire Vehicles"
   ]
  },
  {
   "cell_type": "markdown",
   "metadata": {},
   "source": [
    "We will clean up the data of active for-hire vehicles. First we will identify the App companies for each corresponding Base Number. Then we will use this data to estimate the number of WAVs adn BEVs. (https://data.cityofnewyork.us/Transportation/For-Hire-Vehicles-FHV-Active/8wbx-tsch)"
   ]
  },
  {
   "cell_type": "code",
   "execution_count": 10,
   "metadata": {},
   "outputs": [
    {
     "name": "stderr",
     "output_type": "stream",
     "text": [
      "/Users/fannyshum/anaconda3/lib/python3.6/site-packages/IPython/core/interactiveshell.py:3057: DtypeWarning: Columns (1) have mixed types. Specify dtype option on import or set low_memory=False.\n",
      "  interactivity=interactivity, compiler=compiler, result=result)\n"
     ]
    }
   ],
   "source": [
    "for_hire_raw = pd.read_csv('For_Hire_Vehicles__FHV__-_Active.csv')"
   ]
  },
  {
   "cell_type": "code",
   "execution_count": 11,
   "metadata": {},
   "outputs": [],
   "source": [
    "for_hire = for_hire_raw[['Vehicle VIN Number', 'Wheelchair Accessible', 'Base Number', \n",
    "                         'Base Name', 'VEH', 'Vehicle Year']]"
   ]
  },
  {
   "cell_type": "markdown",
   "metadata": {},
   "source": [
    "#### Company Function\n",
    "We will add a column identifying the company App as either Uber, Lyft, Via, Juno, or Other. (http://www.nybcf.org/members)"
   ]
  },
  {
   "cell_type": "markdown",
   "metadata": {},
   "source": [
    "The formatting of the html was not ideal for extracting the App with the associated Base Number using BeautifulSoup. So we will have it written manually below."
   ]
  },
  {
   "cell_type": "code",
   "execution_count": 12,
   "metadata": {},
   "outputs": [],
   "source": [
    "uber = ['B02871', 'B02889', 'B02764', 'B02835', 'B02884', 'B02836', 'B02872', 'B02887', \n",
    "       'B02878', 'B02867', 'B02879', 'B02598', 'B02870', 'TNC170002', 'B02682', 'B02875', \n",
    "       'B02883', 'B02864', 'B02865', 'B02876', 'B02869', 'B02882', 'B02866', 'B02877']\n",
    "lyft = ['TNC170001', 'B02510']\n",
    "via = ['B02800']\n",
    "juno = ['B02914']"
   ]
  },
  {
   "cell_type": "code",
   "execution_count": 13,
   "metadata": {},
   "outputs": [],
   "source": [
    "# define function to label company\n",
    "def company(base_num):\n",
    "    if base_num in uber:\n",
    "        return 'Uber'\n",
    "    elif base_num in lyft:\n",
    "        return 'Lyft'\n",
    "    elif base_num in via:\n",
    "        return 'Via'\n",
    "    elif base_num in juno:\n",
    "        return 'Juno'\n",
    "    return 'Other'"
   ]
  },
  {
   "cell_type": "code",
   "execution_count": 14,
   "metadata": {
    "scrolled": false
   },
   "outputs": [
    {
     "name": "stderr",
     "output_type": "stream",
     "text": [
      "/Users/fannyshum/anaconda3/lib/python3.6/site-packages/ipykernel_launcher.py:1: SettingWithCopyWarning: \n",
      "A value is trying to be set on a copy of a slice from a DataFrame.\n",
      "Try using .loc[row_indexer,col_indexer] = value instead\n",
      "\n",
      "See the caveats in the documentation: http://pandas.pydata.org/pandas-docs/stable/indexing.html#indexing-view-versus-copy\n",
      "  \"\"\"Entry point for launching an IPython kernel.\n"
     ]
    }
   ],
   "source": [
    "for_hire['App'] = for_hire.apply(lambda row: company(row['Base Number']), axis =1)"
   ]
  },
  {
   "cell_type": "markdown",
   "metadata": {},
   "source": [
    "#### Total Vehicles by App"
   ]
  },
  {
   "cell_type": "code",
   "execution_count": 43,
   "metadata": {},
   "outputs": [],
   "source": [
    "for_hire_Ct = for_hire[['App', 'Base Number', 'Vehicle VIN Number']]"
   ]
  },
  {
   "cell_type": "code",
   "execution_count": 44,
   "metadata": {},
   "outputs": [],
   "source": [
    "for_hire_Ct = for_hire_Ct.groupby(['App', 'Base Number']).count()\n",
    "for_hire_Ct = for_hire_Ct.reset_index()\n",
    "for_hire_Ct.columns = ['App', 'Base Number', 'Total Vehicles']"
   ]
  },
  {
   "cell_type": "markdown",
   "metadata": {},
   "source": [
    "#### Dataframe of Base Number and Company"
   ]
  },
  {
   "cell_type": "code",
   "execution_count": 29,
   "metadata": {},
   "outputs": [],
   "source": [
    "for_hire_app = for_hire[['Base Number', 'App']]"
   ]
  },
  {
   "cell_type": "code",
   "execution_count": 30,
   "metadata": {},
   "outputs": [],
   "source": [
    "for_hire_app = for_hire_app.drop_duplicates()"
   ]
  },
  {
   "cell_type": "markdown",
   "metadata": {},
   "source": [
    "#### Reduce For-Hire to the Base Numbers shown in the trips record"
   ]
  },
  {
   "cell_type": "code",
   "execution_count": 15,
   "metadata": {},
   "outputs": [],
   "source": [
    "trips_base = list(set(trips_airport['dispatching_base_number']))"
   ]
  },
  {
   "cell_type": "code",
   "execution_count": 17,
   "metadata": {},
   "outputs": [],
   "source": [
    "for_hire_filtered = for_hire[for_hire['Base Number'].isin(trips_base)]"
   ]
  },
  {
   "cell_type": "code",
   "execution_count": 18,
   "metadata": {},
   "outputs": [
    {
     "data": {
      "text/plain": [
       "115967"
      ]
     },
     "execution_count": 18,
     "metadata": {},
     "output_type": "execute_result"
    }
   ],
   "source": [
    "len(for_hire)"
   ]
  },
  {
   "cell_type": "code",
   "execution_count": 19,
   "metadata": {},
   "outputs": [
    {
     "data": {
      "text/plain": [
       "84900"
      ]
     },
     "execution_count": 19,
     "metadata": {},
     "output_type": "execute_result"
    }
   ],
   "source": [
    "len(for_hire_filtered)"
   ]
  },
  {
   "cell_type": "markdown",
   "metadata": {},
   "source": [
    "#### Discrepancy between 2018 Trip Records and Active For-Hire Vehicles"
   ]
  },
  {
   "cell_type": "code",
   "execution_count": 20,
   "metadata": {},
   "outputs": [
    {
     "data": {
      "text/plain": [
       "73"
      ]
     },
     "execution_count": 20,
     "metadata": {},
     "output_type": "execute_result"
    }
   ],
   "source": [
    "len(trips_base)"
   ]
  },
  {
   "cell_type": "code",
   "execution_count": 21,
   "metadata": {},
   "outputs": [],
   "source": [
    "for_hire_filtered_base = list(set(for_hire_filtered['Base Number']))"
   ]
  },
  {
   "cell_type": "code",
   "execution_count": 22,
   "metadata": {},
   "outputs": [
    {
     "data": {
      "text/plain": [
       "71"
      ]
     },
     "execution_count": 22,
     "metadata": {},
     "output_type": "execute_result"
    }
   ],
   "source": [
    "len(for_hire_filtered_base)"
   ]
  },
  {
   "cell_type": "code",
   "execution_count": 23,
   "metadata": {},
   "outputs": [
    {
     "data": {
      "text/plain": [
       "['B02426', 'B00236']"
      ]
     },
     "execution_count": 23,
     "metadata": {},
     "output_type": "execute_result"
    }
   ],
   "source": [
    "base_num_discrepancy = [num for num in trips_base if num not in for_hire_filtered_base]\n",
    "base_num_discrepancy"
   ]
  },
  {
   "cell_type": "code",
   "execution_count": 24,
   "metadata": {},
   "outputs": [
    {
     "name": "stdout",
     "output_type": "stream",
     "text": [
      "Company of B02426: Other\n",
      "Company of B00236: Other\n"
     ]
    }
   ],
   "source": [
    "print('Company of {}: {}'.format('B02426', company('B02426')))\n",
    "print('Company of {}: {}'.format('B00236', company('B00236')))"
   ]
  },
  {
   "cell_type": "code",
   "execution_count": 25,
   "metadata": {},
   "outputs": [],
   "source": [
    "non_active = trips_airport[trips_airport['dispatching_base_number'].isin(base_num_discrepancy)]"
   ]
  },
  {
   "cell_type": "code",
   "execution_count": 26,
   "metadata": {},
   "outputs": [
    {
     "data": {
      "text/plain": [
       "B02426    40\n",
       "B00236    13\n",
       "Name: dispatching_base_number, dtype: int64"
      ]
     },
     "execution_count": 26,
     "metadata": {},
     "output_type": "execute_result"
    }
   ],
   "source": [
    "non_active['dispatching_base_number'].value_counts()"
   ]
  },
  {
   "cell_type": "markdown",
   "metadata": {},
   "source": [
    "### Summary of All Trips"
   ]
  },
  {
   "cell_type": "code",
   "execution_count": 60,
   "metadata": {},
   "outputs": [],
   "source": [
    "overall_byApp = WAV_Ct[['App', 'Day', 'Number of Trips']]"
   ]
  },
  {
   "cell_type": "code",
   "execution_count": 62,
   "metadata": {},
   "outputs": [],
   "source": [
    "overall_byApp = overall_byApp.dropna()"
   ]
  },
  {
   "cell_type": "code",
   "execution_count": 64,
   "metadata": {},
   "outputs": [],
   "source": [
    "overall_byApp = overall_byApp.groupby(['App', 'Day']).sum()\n",
    "overall_byApp = overall_byApp.reset_index()"
   ]
  },
  {
   "cell_type": "code",
   "execution_count": 65,
   "metadata": {},
   "outputs": [
    {
     "data": {
      "application/javascript": [
       "const spec = {\"config\": {\"view\": {\"width\": 400, \"height\": 300}, \"mark\": {\"tooltip\": null}}, \"vconcat\": [{\"mark\": \"point\", \"encoding\": {\"color\": {\"condition\": {\"type\": \"nominal\", \"field\": \"App\", \"selection\": \"selector005\"}, \"value\": \"white\"}, \"tooltip\": [{\"type\": \"nominal\", \"field\": \"App\"}, {\"type\": \"quantitative\", \"field\": \"Number of Trips\"}], \"x\": {\"type\": \"temporal\", \"axis\": {\"format\": \"%A %d\", \"title\": \"DATE\"}, \"field\": \"Day\"}, \"y\": {\"type\": \"quantitative\", \"field\": \"Number of Trips\"}}, \"selection\": {\"selector005\": {\"type\": \"multi\", \"encodings\": [\"x\"]}}, \"title\": \"Total Airport Pickups in January 8 - 15, 2018\", \"width\": 600}, {\"mark\": \"bar\", \"encoding\": {\"color\": {\"condition\": {\"type\": \"nominal\", \"field\": \"App\", \"selection\": \"selector005\"}, \"value\": \"lightgray\"}, \"tooltip\": {\"type\": \"quantitative\", \"aggregate\": \"sum\", \"field\": \"Number of Trips\", \"title\": \"Total Count for 0      Lyft\\n1      Lyft\\n2      Lyft\\n3      Lyft\\n4      Lyft\\n5      Lyft\\n6      Lyft\\n7     Other\\n8     Other\\n9     Other\\n10    Other\\n11    Other\\n12    Other\\n13    Other\\n14    Other\\n15     Uber\\n16     Uber\\n17     Uber\\n18     Uber\\n19     Uber\\n20     Uber\\n21     Uber\\n22     Uber\\n23      Via\\n24      Via\\n25      Via\\n26      Via\\n27      Via\\n28      Via\\n29      Via\\nName: App, dtype: object\"}, \"x\": {\"type\": \"nominal\", \"field\": \"App\", \"sort\": {\"field\": \"sum(Number of Trips)\", \"order\": \"ascending\"}}, \"y\": {\"type\": \"quantitative\", \"aggregate\": \"sum\", \"field\": \"Number of Trips\"}}, \"height\": 200, \"selection\": {\"selector005\": {\"type\": \"multi\", \"encodings\": [\"x\"]}}, \"width\": 600}], \"data\": {\"name\": \"data-70b6410d6e9d79d998fa60e4221e34cd\"}, \"$schema\": \"https://vega.github.io/schema/vega-lite/v3.4.0.json\", \"datasets\": {\"data-70b6410d6e9d79d998fa60e4221e34cd\": [{\"App\": \"Lyft\", \"Day\": \"01/08/2018\", \"Number of Trips\": 4001}, {\"App\": \"Lyft\", \"Day\": \"01/09/2018\", \"Number of Trips\": 3326}, {\"App\": \"Lyft\", \"Day\": \"01/10/2018\", \"Number of Trips\": 3043}, {\"App\": \"Lyft\", \"Day\": \"01/11/2018\", \"Number of Trips\": 3821}, {\"App\": \"Lyft\", \"Day\": \"01/12/2018\", \"Number of Trips\": 4029}, {\"App\": \"Lyft\", \"Day\": \"01/13/2018\", \"Number of Trips\": 3984}, {\"App\": \"Lyft\", \"Day\": \"01/14/2018\", \"Number of Trips\": 3591}, {\"App\": \"Other\", \"Day\": \"01/08/2018\", \"Number of Trips\": 2016}, {\"App\": \"Other\", \"Day\": \"01/09/2018\", \"Number of Trips\": 1872}, {\"App\": \"Other\", \"Day\": \"01/10/2018\", \"Number of Trips\": 1813}, {\"App\": \"Other\", \"Day\": \"01/11/2018\", \"Number of Trips\": 2163}, {\"App\": \"Other\", \"Day\": \"01/12/2018\", \"Number of Trips\": 2058}, {\"App\": \"Other\", \"Day\": \"01/13/2018\", \"Number of Trips\": 1655}, {\"App\": \"Other\", \"Day\": \"01/14/2018\", \"Number of Trips\": 1449}, {\"App\": \"Other\", \"Day\": \"01/15/2018\", \"Number of Trips\": 2}, {\"App\": \"Uber\", \"Day\": \"01/08/2018\", \"Number of Trips\": 10443}, {\"App\": \"Uber\", \"Day\": \"01/09/2018\", \"Number of Trips\": 8953}, {\"App\": \"Uber\", \"Day\": \"01/10/2018\", \"Number of Trips\": 8070}, {\"App\": \"Uber\", \"Day\": \"01/11/2018\", \"Number of Trips\": 10209}, {\"App\": \"Uber\", \"Day\": \"01/12/2018\", \"Number of Trips\": 9901}, {\"App\": \"Uber\", \"Day\": \"01/13/2018\", \"Number of Trips\": 8966}, {\"App\": \"Uber\", \"Day\": \"01/14/2018\", \"Number of Trips\": 8576}, {\"App\": \"Uber\", \"Day\": \"01/15/2018\", \"Number of Trips\": 1}, {\"App\": \"Via\", \"Day\": \"01/08/2018\", \"Number of Trips\": 264}, {\"App\": \"Via\", \"Day\": \"01/09/2018\", \"Number of Trips\": 171}, {\"App\": \"Via\", \"Day\": \"01/10/2018\", \"Number of Trips\": 145}, {\"App\": \"Via\", \"Day\": \"01/11/2018\", \"Number of Trips\": 154}, {\"App\": \"Via\", \"Day\": \"01/12/2018\", \"Number of Trips\": 150}, {\"App\": \"Via\", \"Day\": \"01/13/2018\", \"Number of Trips\": 156}, {\"App\": \"Via\", \"Day\": \"01/14/2018\", \"Number of Trips\": 216}]}};\n",
       "const opt = {};\n",
       "const type = \"vega-lite\";\n",
       "const id = \"eddea49e-742a-4614-9ba0-c6b5b566c3ea\";\n",
       "\n",
       "const output_area = this;\n",
       "\n",
       "require([\"nbextensions/jupyter-vega/index\"], function(vega) {\n",
       "  const target = document.createElement(\"div\");\n",
       "  target.id = id;\n",
       "  target.className = \"vega-embed\";\n",
       "\n",
       "  const style = document.createElement(\"style\");\n",
       "  style.textContent = [\n",
       "    \".vega-embed .error p {\",\n",
       "    \"  color: firebrick;\",\n",
       "    \"  font-size: 14px;\",\n",
       "    \"}\",\n",
       "  ].join(\"\\\\n\");\n",
       "\n",
       "  // element is a jQuery wrapped DOM element inside the output area\n",
       "  // see http://ipython.readthedocs.io/en/stable/api/generated/\\\n",
       "  // IPython.display.html#IPython.display.Javascript.__init__\n",
       "  element[0].appendChild(target);\n",
       "  element[0].appendChild(style);\n",
       "\n",
       "  vega.render(\"#\" + id, spec, type, opt, output_area);\n",
       "}, function (err) {\n",
       "  if (err.requireType !== \"scripterror\") {\n",
       "    throw(err);\n",
       "  }\n",
       "});\n"
      ],
      "text/plain": [
       "<vega.vegalite.VegaLite at 0x12481ca90>"
      ]
     },
     "metadata": {
      "jupyter-vega": "#eddea49e-742a-4614-9ba0-c6b5b566c3ea"
     },
     "output_type": "display_data"
    },
    {
     "data": {
      "text/plain": []
     },
     "execution_count": 65,
     "metadata": {},
     "output_type": "execute_result"
    },
    {
     "data": {
      "image/png": "[encoded data removed]"
     },
     "metadata": {
      "jupyter-vega": "#eddea49e-742a-4614-9ba0-c6b5b566c3ea"
     },
     "output_type": "display_data"
    }
   ],
   "source": [
    "src = overall_byApp\n",
    "size_selector = alt.selection_multi(encodings=['x'])\n",
    "\n",
    "scatter = alt.Chart(src, \n",
    "                    title=\"Total Airport Pickups in January 8 - 15, 2018\", \n",
    "                    width=600).mark_point().encode(alt.X(\"Day:T\"\n",
    "                             , axis = alt.Axis(title = 'Date'.upper(), format = (\"%A %d\"))\n",
    "                             ),\n",
    "    y=\"Number of Trips:Q\",\n",
    "    color = alt.condition( size_selector , \"App:N\", alt.value(\"white\")), \n",
    "    tooltip=('App', 'Number of Trips')\n",
    ").add_selection(size_selector)\n",
    "\n",
    "size_hist = alt.Chart(src, width=600, height=200).mark_bar().encode(\n",
    "    alt.X(\"App:N\"            \n",
    "        , sort=alt.EncodingSortField(\n",
    "        field=\"sum(Number of Trips)\",  # The field to use for the sort\n",
    "        order=\"ascending\"  # The order to sort in\n",
    "        )\n",
    "        ),\n",
    "    y = \"sum(Number of Trips):Q\",\n",
    "    color = alt.condition(size_selector, 'App:N', alt.value(\"lightgray\")),\n",
    "    tooltip = (alt.Tooltip('sum(Number of Trips)', title='Total Count for {}'.format(src['App'])))\n",
    ").add_selection(size_selector) #this binds the selector to the plot\n",
    "\n",
    "scatter & size_hist"
   ]
  },
  {
   "cell_type": "markdown",
   "metadata": {},
   "source": [
    "### Shared Trips"
   ]
  },
  {
   "cell_type": "markdown",
   "metadata": {},
   "source": [
    "We will use the SR_flag column to filter the trip records for shared trips only."
   ]
  },
  {
   "cell_type": "code",
   "execution_count": 9,
   "metadata": {},
   "outputs": [],
   "source": [
    "trips_airport_shared = trips_airport[trips_airport['SR_Flag']==1]"
   ]
  },
  {
   "cell_type": "code",
   "execution_count": 27,
   "metadata": {},
   "outputs": [],
   "source": [
    "trips_airport_shared = trips_airport_shared[['dispatching_base_number', 'Pickup_DateTime', 'PUlocationID', 'SR_Flag']]"
   ]
  },
  {
   "cell_type": "code",
   "execution_count": 31,
   "metadata": {},
   "outputs": [],
   "source": [
    "trips_airport_shared = trips_airport_shared.merge(for_hire_app, left_on='dispatching_base_number', right_on='Base Number', how='left')"
   ]
  },
  {
   "cell_type": "code",
   "execution_count": 32,
   "metadata": {},
   "outputs": [],
   "source": [
    "sharedByApp = trips_airport_shared[['Pickup_DateTime', 'App', 'Base Number']]"
   ]
  },
  {
   "cell_type": "code",
   "execution_count": 33,
   "metadata": {},
   "outputs": [
    {
     "name": "stderr",
     "output_type": "stream",
     "text": [
      "/Users/fannyshum/anaconda3/lib/python3.6/site-packages/ipykernel_launcher.py:1: SettingWithCopyWarning: \n",
      "A value is trying to be set on a copy of a slice from a DataFrame.\n",
      "Try using .loc[row_indexer,col_indexer] = value instead\n",
      "\n",
      "See the caveats in the documentation: http://pandas.pydata.org/pandas-docs/stable/indexing.html#indexing-view-versus-copy\n",
      "  \"\"\"Entry point for launching an IPython kernel.\n"
     ]
    }
   ],
   "source": [
    "sharedByApp['Count']=1"
   ]
  },
  {
   "cell_type": "code",
   "execution_count": 34,
   "metadata": {},
   "outputs": [
    {
     "name": "stderr",
     "output_type": "stream",
     "text": [
      "/Users/fannyshum/anaconda3/lib/python3.6/site-packages/ipykernel_launcher.py:1: SettingWithCopyWarning: \n",
      "A value is trying to be set on a copy of a slice from a DataFrame.\n",
      "Try using .loc[row_indexer,col_indexer] = value instead\n",
      "\n",
      "See the caveats in the documentation: http://pandas.pydata.org/pandas-docs/stable/indexing.html#indexing-view-versus-copy\n",
      "  \"\"\"Entry point for launching an IPython kernel.\n"
     ]
    }
   ],
   "source": [
    "sharedByApp['Day'] = pd.DatetimeIndex(sharedByApp['Pickup_DateTime']).strftime(\"%m/%d/%Y\")"
   ]
  },
  {
   "cell_type": "code",
   "execution_count": 35,
   "metadata": {},
   "outputs": [],
   "source": [
    "sharedByApp_sum = sharedByApp[['App', 'Day', 'Count']]"
   ]
  },
  {
   "cell_type": "code",
   "execution_count": 36,
   "metadata": {},
   "outputs": [],
   "source": [
    "sharedByApp_sum = sharedByApp_sum.groupby(['App', 'Day']).sum()\n",
    "sharedByApp_sum = sharedByApp_sum.reset_index()"
   ]
  },
  {
   "cell_type": "markdown",
   "metadata": {},
   "source": [
    "For a quick overview of shared trips by company:"
   ]
  },
  {
   "cell_type": "code",
   "execution_count": 37,
   "metadata": {
    "scrolled": true
   },
   "outputs": [
    {
     "data": {
      "text/html": [
       "<div>\n",
       "<style scoped>\n",
       "    .dataframe tbody tr th:only-of-type {\n",
       "        vertical-align: middle;\n",
       "    }\n",
       "\n",
       "    .dataframe tbody tr th {\n",
       "        vertical-align: top;\n",
       "    }\n",
       "\n",
       "    .dataframe thead th {\n",
       "        text-align: right;\n",
       "    }\n",
       "</style>\n",
       "<table border=\"1\" class=\"dataframe\">\n",
       "  <thead>\n",
       "    <tr style=\"text-align: right;\">\n",
       "      <th></th>\n",
       "      <th>Count</th>\n",
       "    </tr>\n",
       "    <tr>\n",
       "      <th>App</th>\n",
       "      <th></th>\n",
       "    </tr>\n",
       "  </thead>\n",
       "  <tbody>\n",
       "    <tr>\n",
       "      <th>Lyft</th>\n",
       "      <td>7481</td>\n",
       "    </tr>\n",
       "    <tr>\n",
       "      <th>Other</th>\n",
       "      <td>644</td>\n",
       "    </tr>\n",
       "    <tr>\n",
       "      <th>Uber</th>\n",
       "      <td>5640</td>\n",
       "    </tr>\n",
       "    <tr>\n",
       "      <th>Via</th>\n",
       "      <td>268</td>\n",
       "    </tr>\n",
       "  </tbody>\n",
       "</table>\n",
       "</div>"
      ],
      "text/plain": [
       "       Count\n",
       "App         \n",
       "Lyft    7481\n",
       "Other    644\n",
       "Uber    5640\n",
       "Via      268"
      ]
     },
     "execution_count": 37,
     "metadata": {},
     "output_type": "execute_result"
    }
   ],
   "source": [
    "sharedByApp_total = sharedByApp_sum[['App', 'Count']]\n",
    "sharedByApp_total = sharedByApp_total.groupby('App').sum()\n",
    "sharedByApp_total"
   ]
  },
  {
   "cell_type": "markdown",
   "metadata": {},
   "source": [
    "#### Visualization"
   ]
  },
  {
   "cell_type": "code",
   "execution_count": 42,
   "metadata": {},
   "outputs": [
    {
     "data": {
      "application/javascript": [
       "const spec = {\"config\": {\"view\": {\"width\": 400, \"height\": 300}, \"mark\": {\"tooltip\": null}}, \"vconcat\": [{\"mark\": \"point\", \"encoding\": {\"color\": {\"condition\": {\"type\": \"nominal\", \"field\": \"App\", \"selection\": \"selector001\"}, \"value\": \"white\"}, \"tooltip\": [{\"type\": \"nominal\", \"field\": \"App\"}, {\"type\": \"quantitative\", \"field\": \"Count\"}], \"x\": {\"type\": \"temporal\", \"axis\": {\"format\": \"%A %d\", \"title\": \"DATE\"}, \"field\": \"Day\"}, \"y\": {\"type\": \"quantitative\", \"field\": \"Count\"}}, \"selection\": {\"selector001\": {\"type\": \"multi\", \"encodings\": [\"x\"]}}, \"title\": \"Total Shared Rides for Airport Pickups for January 8 - 15, 2018\", \"width\": 600}, {\"mark\": \"bar\", \"encoding\": {\"color\": {\"condition\": {\"type\": \"nominal\", \"field\": \"App\", \"selection\": \"selector001\"}, \"value\": \"lightgray\"}, \"tooltip\": {\"type\": \"quantitative\", \"aggregate\": \"sum\", \"field\": \"Count\", \"title\": \"Total Count for 0      Lyft\\n1      Lyft\\n2      Lyft\\n3      Lyft\\n4      Lyft\\n5      Lyft\\n6      Lyft\\n7     Other\\n8     Other\\n9     Other\\n10    Other\\n11    Other\\n12    Other\\n13    Other\\n14     Uber\\n15     Uber\\n16     Uber\\n17     Uber\\n18     Uber\\n19     Uber\\n20     Uber\\n21      Via\\n22      Via\\n23      Via\\n24      Via\\n25      Via\\n26      Via\\n27      Via\\nName: App, dtype: object\"}, \"x\": {\"type\": \"nominal\", \"field\": \"App\"}, \"y\": {\"type\": \"quantitative\", \"aggregate\": \"sum\", \"field\": \"Count\"}}, \"height\": 200, \"selection\": {\"selector001\": {\"type\": \"multi\", \"encodings\": [\"x\"]}}, \"width\": 600}], \"data\": {\"name\": \"data-7a0a1cad70b593b1096f1a3f55497d29\"}, \"$schema\": \"https://vega.github.io/schema/vega-lite/v3.4.0.json\", \"datasets\": {\"data-7a0a1cad70b593b1096f1a3f55497d29\": [{\"App\": \"Lyft\", \"Day\": \"01/08/2018\", \"Count\": 1195}, {\"App\": \"Lyft\", \"Day\": \"01/09/2018\", \"Count\": 1000}, {\"App\": \"Lyft\", \"Day\": \"01/10/2018\", \"Count\": 881}, {\"App\": \"Lyft\", \"Day\": \"01/11/2018\", \"Count\": 972}, {\"App\": \"Lyft\", \"Day\": \"01/12/2018\", \"Count\": 1060}, {\"App\": \"Lyft\", \"Day\": \"01/13/2018\", \"Count\": 1206}, {\"App\": \"Lyft\", \"Day\": \"01/14/2018\", \"Count\": 1167}, {\"App\": \"Other\", \"Day\": \"01/08/2018\", \"Count\": 115}, {\"App\": \"Other\", \"Day\": \"01/09/2018\", \"Count\": 90}, {\"App\": \"Other\", \"Day\": \"01/10/2018\", \"Count\": 87}, {\"App\": \"Other\", \"Day\": \"01/11/2018\", \"Count\": 75}, {\"App\": \"Other\", \"Day\": \"01/12/2018\", \"Count\": 96}, {\"App\": \"Other\", \"Day\": \"01/13/2018\", \"Count\": 94}, {\"App\": \"Other\", \"Day\": \"01/14/2018\", \"Count\": 87}, {\"App\": \"Uber\", \"Day\": \"01/08/2018\", \"Count\": 1025}, {\"App\": \"Uber\", \"Day\": \"01/09/2018\", \"Count\": 804}, {\"App\": \"Uber\", \"Day\": \"01/10/2018\", \"Count\": 723}, {\"App\": \"Uber\", \"Day\": \"01/11/2018\", \"Count\": 779}, {\"App\": \"Uber\", \"Day\": \"01/12/2018\", \"Count\": 706}, {\"App\": \"Uber\", \"Day\": \"01/13/2018\", \"Count\": 742}, {\"App\": \"Uber\", \"Day\": \"01/14/2018\", \"Count\": 861}, {\"App\": \"Via\", \"Day\": \"01/08/2018\", \"Count\": 48}, {\"App\": \"Via\", \"Day\": \"01/09/2018\", \"Count\": 44}, {\"App\": \"Via\", \"Day\": \"01/10/2018\", \"Count\": 37}, {\"App\": \"Via\", \"Day\": \"01/11/2018\", \"Count\": 35}, {\"App\": \"Via\", \"Day\": \"01/12/2018\", \"Count\": 30}, {\"App\": \"Via\", \"Day\": \"01/13/2018\", \"Count\": 35}, {\"App\": \"Via\", \"Day\": \"01/14/2018\", \"Count\": 39}]}};\n",
       "const opt = {};\n",
       "const type = \"vega-lite\";\n",
       "const id = \"29212dea-0f00-4591-84a3-317cc0913bc8\";\n",
       "\n",
       "const output_area = this;\n",
       "\n",
       "require([\"nbextensions/jupyter-vega/index\"], function(vega) {\n",
       "  const target = document.createElement(\"div\");\n",
       "  target.id = id;\n",
       "  target.className = \"vega-embed\";\n",
       "\n",
       "  const style = document.createElement(\"style\");\n",
       "  style.textContent = [\n",
       "    \".vega-embed .error p {\",\n",
       "    \"  color: firebrick;\",\n",
       "    \"  font-size: 14px;\",\n",
       "    \"}\",\n",
       "  ].join(\"\\\\n\");\n",
       "\n",
       "  // element is a jQuery wrapped DOM element inside the output area\n",
       "  // see http://ipython.readthedocs.io/en/stable/api/generated/\\\n",
       "  // IPython.display.html#IPython.display.Javascript.__init__\n",
       "  element[0].appendChild(target);\n",
       "  element[0].appendChild(style);\n",
       "\n",
       "  vega.render(\"#\" + id, spec, type, opt, output_area);\n",
       "}, function (err) {\n",
       "  if (err.requireType !== \"scripterror\") {\n",
       "    throw(err);\n",
       "  }\n",
       "});\n"
      ],
      "text/plain": [
       "<vega.vegalite.VegaLite at 0x136b5c908>"
      ]
     },
     "metadata": {
      "jupyter-vega": "#29212dea-0f00-4591-84a3-317cc0913bc8"
     },
     "output_type": "display_data"
    },
    {
     "data": {
      "text/plain": []
     },
     "execution_count": 42,
     "metadata": {},
     "output_type": "execute_result"
    },
    {
     "data": {
      "image/png": "[encoded data removed]"
     },
     "metadata": {
      "jupyter-vega": "#29212dea-0f00-4591-84a3-317cc0913bc8"
     },
     "output_type": "display_data"
    }
   ],
   "source": [
    "src = sharedByApp_sum\n",
    "size_selector = alt.selection_multi(encodings=['x'])\n",
    "\n",
    "scatter = alt.Chart(src, \n",
    "                    title=\"Total Shared Rides for Airport Pickups for January 8 - 15, 2018\", \n",
    "                    width=600).mark_point().encode(alt.X(\"Day:T\"\n",
    "                             , axis = alt.Axis(title = 'Date'.upper(), format = (\"%A %d\"))\n",
    "                             ),\n",
    "    y=\"Count:Q\",\n",
    "    color = alt.condition( size_selector , \"App:N\", alt.value(\"white\")), \n",
    "    tooltip=('App', 'Count')\n",
    ").add_selection(size_selector)\n",
    "\n",
    "#we input certain strings as functions\n",
    "size_hist = alt.Chart(src, width=600, height=200).mark_bar().encode(\n",
    "    alt.X(\"App:N\"            \n",
    "        ),\n",
    "    y = \"sum(Count):Q\",\n",
    "    color = alt.condition(size_selector, 'App:N', alt.value(\"lightgray\")),\n",
    "    tooltip = (alt.Tooltip('sum(Count)', title='Total Count for {}'.format(src['App'])))\n",
    ").add_selection(size_selector) #this binds the selector to the plot\n",
    "\n",
    "\n",
    "scatter & size_hist"
   ]
  },
  {
   "cell_type": "markdown",
   "metadata": {},
   "source": [
    "### WAV"
   ]
  },
  {
   "cell_type": "markdown",
   "metadata": {},
   "source": [
    "We will use the column Wheelchair Accessible in the Active For-Hire Vehicles to identify the number of WAV vehicles. Since the 2018 Trip Records only provides the Base Number of the vehicle (and no license number), we will have to approximate the number of WAV vehicles for the airpot trips. For the approximation, we will use the percentage of all WAV vehicles for each corresponding Base Number to scale the total number of airport trips. In otherwords, we if company A has 20% WAV out of all its vehicles, then there is a fair chance that approximately 20% of the vehicles used for the airport trips are also WAV."
   ]
  },
  {
   "cell_type": "code",
   "execution_count": 38,
   "metadata": {},
   "outputs": [],
   "source": [
    "for_hire_WAV = for_hire_filtered[for_hire_filtered['Wheelchair Accessible']=='WAV']"
   ]
  },
  {
   "cell_type": "code",
   "execution_count": 39,
   "metadata": {},
   "outputs": [],
   "source": [
    "for_hire_WAV_Ct = for_hire_WAV[['Base Number', 'App', 'Wheelchair Accessible']]"
   ]
  },
  {
   "cell_type": "code",
   "execution_count": 40,
   "metadata": {},
   "outputs": [],
   "source": [
    "for_hire_WAV_Ct = for_hire_WAV_Ct.groupby(['Base Number', 'App']).count()\n",
    "for_hire_WAV_Ct = for_hire_WAV_Ct.reset_index()"
   ]
  },
  {
   "cell_type": "code",
   "execution_count": 45,
   "metadata": {},
   "outputs": [],
   "source": [
    "for_hire_WAVratio = for_hire_Ct.merge(for_hire_WAV_Ct, on=['App', 'Base Number'], how='left')"
   ]
  },
  {
   "cell_type": "code",
   "execution_count": 46,
   "metadata": {},
   "outputs": [],
   "source": [
    "for_hire_WAVratio = for_hire_WAVratio.fillna(0)"
   ]
  },
  {
   "cell_type": "code",
   "execution_count": 47,
   "metadata": {},
   "outputs": [],
   "source": [
    "for_hire_WAVratio['% WAV'] = for_hire_WAVratio['Wheelchair Accessible']/for_hire_WAVratio['Total Vehicles']"
   ]
  },
  {
   "cell_type": "code",
   "execution_count": 48,
   "metadata": {},
   "outputs": [],
   "source": [
    "for_hire_WAVratio = for_hire_WAVratio[['App', 'Base Number', '% WAV']]"
   ]
  },
  {
   "cell_type": "markdown",
   "metadata": {},
   "source": [
    "#### Implement the WAV scale in the 2018 Trip records"
   ]
  },
  {
   "cell_type": "code",
   "execution_count": 51,
   "metadata": {},
   "outputs": [],
   "source": [
    "WAV_Ct = trips_airport[['dispatching_base_number', 'Day']]"
   ]
  },
  {
   "cell_type": "code",
   "execution_count": 52,
   "metadata": {},
   "outputs": [
    {
     "name": "stderr",
     "output_type": "stream",
     "text": [
      "/Users/fannyshum/anaconda3/lib/python3.6/site-packages/ipykernel_launcher.py:1: SettingWithCopyWarning: \n",
      "A value is trying to be set on a copy of a slice from a DataFrame.\n",
      "Try using .loc[row_indexer,col_indexer] = value instead\n",
      "\n",
      "See the caveats in the documentation: http://pandas.pydata.org/pandas-docs/stable/indexing.html#indexing-view-versus-copy\n",
      "  \"\"\"Entry point for launching an IPython kernel.\n"
     ]
    }
   ],
   "source": [
    "WAV_Ct['Number of Trips'] = 1"
   ]
  },
  {
   "cell_type": "code",
   "execution_count": 53,
   "metadata": {},
   "outputs": [],
   "source": [
    "WAV_Ct = WAV_Ct.groupby(['dispatching_base_number', 'Day']).sum()"
   ]
  },
  {
   "cell_type": "code",
   "execution_count": 54,
   "metadata": {},
   "outputs": [],
   "source": [
    "WAV_Ct = WAV_Ct.reset_index()"
   ]
  },
  {
   "cell_type": "code",
   "execution_count": 55,
   "metadata": {},
   "outputs": [],
   "source": [
    "WAV_Ct = WAV_Ct.merge(for_hire_WAVratio, left_on = 'dispatching_base_number', right_on = 'Base Number', how='left')"
   ]
  },
  {
   "cell_type": "code",
   "execution_count": 56,
   "metadata": {},
   "outputs": [],
   "source": [
    "WAV_Ct = WAV_Ct[['App', 'dispatching_base_number', 'Day', '% WAV', 'Number of Trips']]\n",
    "WAV_Ct.columns = ['App', 'Base Number', 'Day', '% WAV', 'Number of Trips']"
   ]
  },
  {
   "cell_type": "code",
   "execution_count": 57,
   "metadata": {},
   "outputs": [],
   "source": [
    "WAV_Ct['Approx WAVs'] = WAV_Ct['% WAV']*WAV_Ct['Number of Trips']"
   ]
  },
  {
   "cell_type": "code",
   "execution_count": 58,
   "metadata": {},
   "outputs": [],
   "source": [
    "Approx_WAV = WAV_Ct[['App', 'Day', 'Approx WAVs']]\n",
    "Approx_WAV = Approx_WAV.groupby(['App', 'Day']).sum()\n",
    "Approx_WAV = Approx_WAV.reset_index()"
   ]
  },
  {
   "cell_type": "markdown",
   "metadata": {},
   "source": [
    "#### Visualization"
   ]
  },
  {
   "cell_type": "code",
   "execution_count": 59,
   "metadata": {},
   "outputs": [
    {
     "data": {
      "application/javascript": [
       "const spec = {\"config\": {\"view\": {\"width\": 400, \"height\": 300}, \"mark\": {\"tooltip\": null}}, \"vconcat\": [{\"mark\": \"point\", \"encoding\": {\"color\": {\"condition\": {\"type\": \"nominal\", \"field\": \"App\", \"selection\": \"selector002\"}, \"value\": \"white\"}, \"tooltip\": [{\"type\": \"nominal\", \"field\": \"App\"}, {\"type\": \"quantitative\", \"field\": \"Approx WAVs\"}], \"x\": {\"type\": \"temporal\", \"axis\": {\"format\": \"%A %d\", \"title\": \"DATE\"}, \"field\": \"Day\"}, \"y\": {\"type\": \"quantitative\", \"field\": \"Approx WAVs\"}}, \"selection\": {\"selector002\": {\"type\": \"multi\", \"encodings\": [\"x\"]}}, \"title\": \"Approximate WAV Rides for Airport Pickups in January 8 - 15, 2018\", \"width\": 600}, {\"mark\": \"bar\", \"encoding\": {\"color\": {\"condition\": {\"type\": \"nominal\", \"field\": \"App\", \"selection\": \"selector002\"}, \"value\": \"lightgray\"}, \"tooltip\": {\"type\": \"quantitative\", \"aggregate\": \"sum\", \"field\": \"Approx WAVs\", \"title\": \"Total Count for 0      Lyft\\n1      Lyft\\n2      Lyft\\n3      Lyft\\n4      Lyft\\n5      Lyft\\n6      Lyft\\n7     Other\\n8     Other\\n9     Other\\n10    Other\\n11    Other\\n12    Other\\n13    Other\\n14    Other\\n15     Uber\\n16     Uber\\n17     Uber\\n18     Uber\\n19     Uber\\n20     Uber\\n21     Uber\\n22     Uber\\n23      Via\\n24      Via\\n25      Via\\n26      Via\\n27      Via\\n28      Via\\n29      Via\\nName: App, dtype: object\"}, \"x\": {\"type\": \"nominal\", \"field\": \"App\"}, \"y\": {\"type\": \"quantitative\", \"aggregate\": \"sum\", \"field\": \"Approx WAVs\"}}, \"height\": 200, \"selection\": {\"selector002\": {\"type\": \"multi\", \"encodings\": [\"x\"]}}, \"width\": 600}], \"data\": {\"name\": \"data-abe9d81a714c6b05c6e28e7c25bac123\"}, \"$schema\": \"https://vega.github.io/schema/vega-lite/v3.4.0.json\", \"datasets\": {\"data-abe9d81a714c6b05c6e28e7c25bac123\": [{\"App\": \"Lyft\", \"Day\": \"01/08/2018\", \"Approx WAVs\": 0.0}, {\"App\": \"Lyft\", \"Day\": \"01/09/2018\", \"Approx WAVs\": 0.0}, {\"App\": \"Lyft\", \"Day\": \"01/10/2018\", \"Approx WAVs\": 0.0}, {\"App\": \"Lyft\", \"Day\": \"01/11/2018\", \"Approx WAVs\": 0.0}, {\"App\": \"Lyft\", \"Day\": \"01/12/2018\", \"Approx WAVs\": 0.0}, {\"App\": \"Lyft\", \"Day\": \"01/13/2018\", \"Approx WAVs\": 0.0}, {\"App\": \"Lyft\", \"Day\": \"01/14/2018\", \"Approx WAVs\": 0.0}, {\"App\": \"Other\", \"Day\": \"01/08/2018\", \"Approx WAVs\": 0.6782014951320917}, {\"App\": \"Other\", \"Day\": \"01/09/2018\", \"Approx WAVs\": 0.5162363512035743}, {\"App\": \"Other\", \"Day\": \"01/10/2018\", \"Approx WAVs\": 0.4796251115947249}, {\"App\": \"Other\", \"Day\": \"01/11/2018\", \"Approx WAVs\": 0.5833382536003122}, {\"App\": \"Other\", \"Day\": \"01/12/2018\", \"Approx WAVs\": 0.5331943527223144}, {\"App\": \"Other\", \"Day\": \"01/13/2018\", \"Approx WAVs\": 0.5487435760721496}, {\"App\": \"Other\", \"Day\": \"01/14/2018\", \"Approx WAVs\": 0.4376825380972118}, {\"App\": \"Other\", \"Day\": \"01/15/2018\", \"Approx WAVs\": 0.0}, {\"App\": \"Uber\", \"Day\": \"01/08/2018\", \"Approx WAVs\": 21.451583160548648}, {\"App\": \"Uber\", \"Day\": \"01/09/2018\", \"Approx WAVs\": 19.821702062828454}, {\"App\": \"Uber\", \"Day\": \"01/10/2018\", \"Approx WAVs\": 16.18897971178172}, {\"App\": \"Uber\", \"Day\": \"01/11/2018\", \"Approx WAVs\": 21.926453830609923}, {\"App\": \"Uber\", \"Day\": \"01/12/2018\", \"Approx WAVs\": 20.381686995402656}, {\"App\": \"Uber\", \"Day\": \"01/13/2018\", \"Approx WAVs\": 19.735532187509722}, {\"App\": \"Uber\", \"Day\": \"01/14/2018\", \"Approx WAVs\": 17.42462190291694}, {\"App\": \"Uber\", \"Day\": \"01/15/2018\", \"Approx WAVs\": 0.0002602811035918792}, {\"App\": \"Via\", \"Day\": \"01/08/2018\", \"Approx WAVs\": 0.0}, {\"App\": \"Via\", \"Day\": \"01/09/2018\", \"Approx WAVs\": 0.0}, {\"App\": \"Via\", \"Day\": \"01/10/2018\", \"Approx WAVs\": 0.0}, {\"App\": \"Via\", \"Day\": \"01/11/2018\", \"Approx WAVs\": 0.0}, {\"App\": \"Via\", \"Day\": \"01/12/2018\", \"Approx WAVs\": 0.0}, {\"App\": \"Via\", \"Day\": \"01/13/2018\", \"Approx WAVs\": 0.0}, {\"App\": \"Via\", \"Day\": \"01/14/2018\", \"Approx WAVs\": 0.0}]}};\n",
       "const opt = {};\n",
       "const type = \"vega-lite\";\n",
       "const id = \"2f76d508-af96-4358-97e3-f276021f01fc\";\n",
       "\n",
       "const output_area = this;\n",
       "\n",
       "require([\"nbextensions/jupyter-vega/index\"], function(vega) {\n",
       "  const target = document.createElement(\"div\");\n",
       "  target.id = id;\n",
       "  target.className = \"vega-embed\";\n",
       "\n",
       "  const style = document.createElement(\"style\");\n",
       "  style.textContent = [\n",
       "    \".vega-embed .error p {\",\n",
       "    \"  color: firebrick;\",\n",
       "    \"  font-size: 14px;\",\n",
       "    \"}\",\n",
       "  ].join(\"\\\\n\");\n",
       "\n",
       "  // element is a jQuery wrapped DOM element inside the output area\n",
       "  // see http://ipython.readthedocs.io/en/stable/api/generated/\\\n",
       "  // IPython.display.html#IPython.display.Javascript.__init__\n",
       "  element[0].appendChild(target);\n",
       "  element[0].appendChild(style);\n",
       "\n",
       "  vega.render(\"#\" + id, spec, type, opt, output_area);\n",
       "}, function (err) {\n",
       "  if (err.requireType !== \"scripterror\") {\n",
       "    throw(err);\n",
       "  }\n",
       "});\n"
      ],
      "text/plain": [
       "<vega.vegalite.VegaLite at 0x12481cfd0>"
      ]
     },
     "metadata": {
      "jupyter-vega": "#2f76d508-af96-4358-97e3-f276021f01fc"
     },
     "output_type": "display_data"
    },
    {
     "data": {
      "text/plain": []
     },
     "execution_count": 59,
     "metadata": {},
     "output_type": "execute_result"
    },
    {
     "data": {
      "image/png": "[encoded data removed]"
     },
     "metadata": {
      "jupyter-vega": "#2f76d508-af96-4358-97e3-f276021f01fc"
     },
     "output_type": "display_data"
    }
   ],
   "source": [
    "src = Approx_WAV\n",
    "size_selector = alt.selection_multi(encodings=['x'])\n",
    "\n",
    "scatter = alt.Chart(src, \n",
    "                    title=\"Approximate WAV Rides for Airport Pickups in January 8 - 15, 2018\", \n",
    "                    width=600).mark_point().encode(alt.X(\"Day:T\"\n",
    "                             , axis = alt.Axis(title = 'Date'.upper(), format = (\"%A %d\"))\n",
    "                             ),\n",
    "    y=\"Approx WAVs:Q\",\n",
    "    color = alt.condition( size_selector , \"App:N\", alt.value(\"white\")), \n",
    "    tooltip=('App', 'Approx WAVs')\n",
    ").add_selection(size_selector)\n",
    "\n",
    "\n",
    "size_hist = alt.Chart(src, width=600, height=200).mark_bar().encode(\n",
    "    alt.X(\"App:N\"            \n",
    "        ),\n",
    "    y = \"sum(Approx WAVs):Q\",\n",
    "    color = alt.condition(size_selector, 'App:N', alt.value(\"lightgray\")),\n",
    "    tooltip = (alt.Tooltip('sum(Approx WAVs)', title='Total Count for {}'.format(src['App'])))\n",
    ").add_selection(size_selector) #this binds the selector to the plot\n",
    "\n",
    "scatter & size_hist"
   ]
  },
  {
   "cell_type": "markdown",
   "metadata": {},
   "source": [
    "### BEV"
   ]
  },
  {
   "cell_type": "markdown",
   "metadata": {},
   "source": [
    "To identify the BEV, we will use the Vehicle Vin Number column in the Active For-Hire Vehicles in the NHTSA Vehicle API (https://vpic.nhtsa.dot.gov/api/). If the primary fuel type column is electric and the secondary fuel typ column is empty, then the corresponding vehicle is electric."
   ]
  },
  {
   "cell_type": "markdown",
   "metadata": {},
   "source": [
    "#### Attempt One\n",
    "We will create a for-loop to read feed each VIN into the API. Unfortunately, there are too many VINs and it took about 2 hours to successfully decode approximately 5000 VINs. Since there are approximately 85,000 VINs, that would've taken almost a day to keep running, while it kept losing connection after a few batches. Below is the script:"
   ]
  },
  {
   "cell_type": "code",
   "execution_count": null,
   "metadata": {},
   "outputs": [],
   "source": [
    "test = for_hire_filtered[['Vehicle VIN Number', 'Base Number', 'App', 'VEH', 'Vehicle Year']]\n",
    "df = pd.read_csv('https://vpic.nhtsa.dot.gov/api/vehicles/DecodeVinValues/{}?format=csv&modelyear={}'.\n",
    "                 format(test.iloc[0]['Vehicle VIN Number'], test.iloc[0]['Vehicle Year']))\n",
    "\n",
    "for i in range(1, len(test)):\n",
    "    vin = test.iloc[i]['Vehicle VIN Number']\n",
    "    yr = test.iloc[i]['Vehicle Year']\n",
    "    df1 = pd.read_csv('https://vpic.nhtsa.dot.gov/api/vehicles/DecodeVinValues/{}?format=csv&modelyear={}'.format(vin, yr))\n",
    "    df = df.append(df1)"
   ]
  },
  {
   "cell_type": "markdown",
   "metadata": {},
   "source": [
    "#### Attempt Two\n",
    "We will attempt to use the built-in Decode VIN (flat format) in a Batch to decode all VINs. All VINs are extracted as one string and fed into the Batch decoder. Unfortunately, due to the  number of VINs, the built-in decoder would also lose its connection trying to process all the VINs."
   ]
  },
  {
   "cell_type": "code",
   "execution_count": null,
   "metadata": {},
   "outputs": [],
   "source": [
    "vin_feed_str = ''\n",
    "for i in range(len(test)):\n",
    "    vin = test.iloc[i]['Vehicle VIN Number']\n",
    "    vin_feed_str += '{}; '.format(vin)"
   ]
  },
  {
   "cell_type": "markdown",
   "metadata": {},
   "source": [
    "#### Attempt Three\n",
    "Since the For-Hire Vehicle data has a VEH column indicating BEV vehicles, we verified the validity of the column with the data we did recover from Attempt One and those with the BEV indicator. The test DataFrame gathered from Attempt One has no BEV follwing the guideline provided. We cross-referenced the VINs in test with the VINs in For-Hire Vehicle (BEV) and found no overlap. Then we fed the VINs in For-Hire Vehicle (BEV) and verfied that they are indeed BEV following the guideline. So we will use the For-Hire Vehicle (BEV) to approximate the number of BEVs."
   ]
  },
  {
   "cell_type": "code",
   "execution_count": 73,
   "metadata": {},
   "outputs": [
    {
     "name": "stderr",
     "output_type": "stream",
     "text": [
      "/Users/fannyshum/anaconda3/lib/python3.6/site-packages/IPython/core/interactiveshell.py:3057: DtypeWarning: Columns (7,49,50,51,52,60,61,63,66,110,123) have mixed types. Specify dtype option on import or set low_memory=False.\n",
      "  interactivity=interactivity, compiler=compiler, result=result)\n"
     ]
    }
   ],
   "source": [
    "df = pd.read_csv('test.csv')"
   ]
  },
  {
   "cell_type": "code",
   "execution_count": 74,
   "metadata": {},
   "outputs": [],
   "source": [
    "electric_draft = df[df['fueltypeprimary'] == 'Electric']"
   ]
  },
  {
   "cell_type": "code",
   "execution_count": 75,
   "metadata": {},
   "outputs": [],
   "source": [
    "# Compare with BEV mark\n",
    "bev_mark = for_hire_filtered[for_hire_filtered['VEH']=='BEV']"
   ]
  },
  {
   "cell_type": "code",
   "execution_count": 77,
   "metadata": {},
   "outputs": [],
   "source": [
    "bev_check = electric_draft.merge(bev_mark, left_on='vin', right_on='Vehicle VIN Number', how='outer', indicator=True)"
   ]
  },
  {
   "cell_type": "code",
   "execution_count": 78,
   "metadata": {
    "scrolled": true
   },
   "outputs": [
    {
     "data": {
      "text/html": [
       "<div>\n",
       "<style scoped>\n",
       "    .dataframe tbody tr th:only-of-type {\n",
       "        vertical-align: middle;\n",
       "    }\n",
       "\n",
       "    .dataframe tbody tr th {\n",
       "        vertical-align: top;\n",
       "    }\n",
       "\n",
       "    .dataframe thead th {\n",
       "        text-align: right;\n",
       "    }\n",
       "</style>\n",
       "<table border=\"1\" class=\"dataframe\">\n",
       "  <thead>\n",
       "    <tr style=\"text-align: right;\">\n",
       "      <th></th>\n",
       "      <th>vin</th>\n",
       "      <th>Vehicle VIN Number</th>\n",
       "      <th>Base Number</th>\n",
       "      <th>_merge</th>\n",
       "    </tr>\n",
       "  </thead>\n",
       "  <tbody>\n",
       "    <tr>\n",
       "      <th>0</th>\n",
       "      <td>4T1BD1EB1JU061411</td>\n",
       "      <td>NaN</td>\n",
       "      <td>NaN</td>\n",
       "      <td>left_only</td>\n",
       "    </tr>\n",
       "    <tr>\n",
       "      <th>1</th>\n",
       "      <td>5TDDGRFH3HS030066</td>\n",
       "      <td>NaN</td>\n",
       "      <td>NaN</td>\n",
       "      <td>left_only</td>\n",
       "    </tr>\n",
       "    <tr>\n",
       "      <th>2</th>\n",
       "      <td>4T1BD1EBXJU060404</td>\n",
       "      <td>NaN</td>\n",
       "      <td>NaN</td>\n",
       "      <td>left_only</td>\n",
       "    </tr>\n",
       "    <tr>\n",
       "      <th>3</th>\n",
       "      <td>JTDKN3DP7C3027041</td>\n",
       "      <td>NaN</td>\n",
       "      <td>NaN</td>\n",
       "      <td>left_only</td>\n",
       "    </tr>\n",
       "    <tr>\n",
       "      <th>4</th>\n",
       "      <td>JTMRJREV6JD258319</td>\n",
       "      <td>NaN</td>\n",
       "      <td>NaN</td>\n",
       "      <td>left_only</td>\n",
       "    </tr>\n",
       "    <tr>\n",
       "      <th>5</th>\n",
       "      <td>5TDJGRFH8JS040102</td>\n",
       "      <td>NaN</td>\n",
       "      <td>NaN</td>\n",
       "      <td>left_only</td>\n",
       "    </tr>\n",
       "    <tr>\n",
       "      <th>6</th>\n",
       "      <td>5TDDGRFH5HS035902</td>\n",
       "      <td>NaN</td>\n",
       "      <td>NaN</td>\n",
       "      <td>left_only</td>\n",
       "    </tr>\n",
       "    <tr>\n",
       "      <th>7</th>\n",
       "      <td>1FADP5CU8EL521620</td>\n",
       "      <td>NaN</td>\n",
       "      <td>NaN</td>\n",
       "      <td>left_only</td>\n",
       "    </tr>\n",
       "    <tr>\n",
       "      <th>8</th>\n",
       "      <td>5TDJGRFH7HS029389</td>\n",
       "      <td>NaN</td>\n",
       "      <td>NaN</td>\n",
       "      <td>left_only</td>\n",
       "    </tr>\n",
       "    <tr>\n",
       "      <th>9</th>\n",
       "      <td>5TDJGRFH1KS059396</td>\n",
       "      <td>NaN</td>\n",
       "      <td>NaN</td>\n",
       "      <td>left_only</td>\n",
       "    </tr>\n",
       "    <tr>\n",
       "      <th>10</th>\n",
       "      <td>5TDJGRFH4JS049833</td>\n",
       "      <td>NaN</td>\n",
       "      <td>NaN</td>\n",
       "      <td>left_only</td>\n",
       "    </tr>\n",
       "    <tr>\n",
       "      <th>11</th>\n",
       "      <td>2T2BGMCAXJC020839</td>\n",
       "      <td>NaN</td>\n",
       "      <td>NaN</td>\n",
       "      <td>left_only</td>\n",
       "    </tr>\n",
       "    <tr>\n",
       "      <th>12</th>\n",
       "      <td>5TDJGRFH0KS067604</td>\n",
       "      <td>NaN</td>\n",
       "      <td>NaN</td>\n",
       "      <td>left_only</td>\n",
       "    </tr>\n",
       "    <tr>\n",
       "      <th>13</th>\n",
       "      <td>5TDJGRFH8JS037443</td>\n",
       "      <td>NaN</td>\n",
       "      <td>NaN</td>\n",
       "      <td>left_only</td>\n",
       "    </tr>\n",
       "    <tr>\n",
       "      <th>14</th>\n",
       "      <td>5TDBGRFH2HS024539</td>\n",
       "      <td>NaN</td>\n",
       "      <td>NaN</td>\n",
       "      <td>left_only</td>\n",
       "    </tr>\n",
       "    <tr>\n",
       "      <th>15</th>\n",
       "      <td>5TDDGRFH6KS055597</td>\n",
       "      <td>NaN</td>\n",
       "      <td>NaN</td>\n",
       "      <td>left_only</td>\n",
       "    </tr>\n",
       "    <tr>\n",
       "      <th>16</th>\n",
       "      <td>JTMJJREV2JD210541</td>\n",
       "      <td>NaN</td>\n",
       "      <td>NaN</td>\n",
       "      <td>left_only</td>\n",
       "    </tr>\n",
       "    <tr>\n",
       "      <th>17</th>\n",
       "      <td>5TDJGRFH8KS071125</td>\n",
       "      <td>NaN</td>\n",
       "      <td>NaN</td>\n",
       "      <td>left_only</td>\n",
       "    </tr>\n",
       "    <tr>\n",
       "      <th>18</th>\n",
       "      <td>5TDJGRFH3KS072943</td>\n",
       "      <td>NaN</td>\n",
       "      <td>NaN</td>\n",
       "      <td>left_only</td>\n",
       "    </tr>\n",
       "    <tr>\n",
       "      <th>19</th>\n",
       "      <td>5TDBGRFH5KS058577</td>\n",
       "      <td>NaN</td>\n",
       "      <td>NaN</td>\n",
       "      <td>left_only</td>\n",
       "    </tr>\n",
       "    <tr>\n",
       "      <th>20</th>\n",
       "      <td>JTMDJREV5JD246821</td>\n",
       "      <td>NaN</td>\n",
       "      <td>NaN</td>\n",
       "      <td>left_only</td>\n",
       "    </tr>\n",
       "    <tr>\n",
       "      <th>21</th>\n",
       "      <td>5TDJGRFH0KS066128</td>\n",
       "      <td>NaN</td>\n",
       "      <td>NaN</td>\n",
       "      <td>left_only</td>\n",
       "    </tr>\n",
       "    <tr>\n",
       "      <th>22</th>\n",
       "      <td>5TDJGRFHXJS047973</td>\n",
       "      <td>NaN</td>\n",
       "      <td>NaN</td>\n",
       "      <td>left_only</td>\n",
       "    </tr>\n",
       "    <tr>\n",
       "      <th>23</th>\n",
       "      <td>JTMJJREV9JD257193</td>\n",
       "      <td>NaN</td>\n",
       "      <td>NaN</td>\n",
       "      <td>left_only</td>\n",
       "    </tr>\n",
       "    <tr>\n",
       "      <th>24</th>\n",
       "      <td>NaN</td>\n",
       "      <td>5YJXCBE25GF004231</td>\n",
       "      <td>B02617</td>\n",
       "      <td>right_only</td>\n",
       "    </tr>\n",
       "    <tr>\n",
       "      <th>25</th>\n",
       "      <td>NaN</td>\n",
       "      <td>5YJ3E1EB0KF441775</td>\n",
       "      <td>B02872</td>\n",
       "      <td>right_only</td>\n",
       "    </tr>\n",
       "    <tr>\n",
       "      <th>26</th>\n",
       "      <td>NaN</td>\n",
       "      <td>5YJ3E1EBXKF510620</td>\n",
       "      <td>B02872</td>\n",
       "      <td>right_only</td>\n",
       "    </tr>\n",
       "    <tr>\n",
       "      <th>27</th>\n",
       "      <td>NaN</td>\n",
       "      <td>5YJSA1E21JF234236</td>\n",
       "      <td>B02864</td>\n",
       "      <td>right_only</td>\n",
       "    </tr>\n",
       "    <tr>\n",
       "      <th>28</th>\n",
       "      <td>NaN</td>\n",
       "      <td>5YJ3E1EA1KF464747</td>\n",
       "      <td>B02871</td>\n",
       "      <td>right_only</td>\n",
       "    </tr>\n",
       "    <tr>\n",
       "      <th>29</th>\n",
       "      <td>NaN</td>\n",
       "      <td>1N4AZ1CP3KC306741</td>\n",
       "      <td>B02872</td>\n",
       "      <td>right_only</td>\n",
       "    </tr>\n",
       "    <tr>\n",
       "      <th>30</th>\n",
       "      <td>NaN</td>\n",
       "      <td>1G1FY6S02K4127825</td>\n",
       "      <td>B02871</td>\n",
       "      <td>right_only</td>\n",
       "    </tr>\n",
       "    <tr>\n",
       "      <th>31</th>\n",
       "      <td>NaN</td>\n",
       "      <td>5YJSA1E20JF266675</td>\n",
       "      <td>B02872</td>\n",
       "      <td>right_only</td>\n",
       "    </tr>\n",
       "    <tr>\n",
       "      <th>32</th>\n",
       "      <td>NaN</td>\n",
       "      <td>5YJ3E1EB8KF451454</td>\n",
       "      <td>B02872</td>\n",
       "      <td>right_only</td>\n",
       "    </tr>\n",
       "    <tr>\n",
       "      <th>33</th>\n",
       "      <td>NaN</td>\n",
       "      <td>KM8K23AGXKU051819</td>\n",
       "      <td>B02872</td>\n",
       "      <td>right_only</td>\n",
       "    </tr>\n",
       "    <tr>\n",
       "      <th>34</th>\n",
       "      <td>NaN</td>\n",
       "      <td>5YJ3E1EBXKF385568</td>\n",
       "      <td>B02872</td>\n",
       "      <td>right_only</td>\n",
       "    </tr>\n",
       "    <tr>\n",
       "      <th>35</th>\n",
       "      <td>NaN</td>\n",
       "      <td>5YJSA1E27JF266723</td>\n",
       "      <td>B02872</td>\n",
       "      <td>right_only</td>\n",
       "    </tr>\n",
       "    <tr>\n",
       "      <th>36</th>\n",
       "      <td>NaN</td>\n",
       "      <td>1G1FY6S05K4142593</td>\n",
       "      <td>B02872</td>\n",
       "      <td>right_only</td>\n",
       "    </tr>\n",
       "    <tr>\n",
       "      <th>37</th>\n",
       "      <td>NaN</td>\n",
       "      <td>5YJSA1E29GF135608</td>\n",
       "      <td>B02864</td>\n",
       "      <td>right_only</td>\n",
       "    </tr>\n",
       "    <tr>\n",
       "      <th>38</th>\n",
       "      <td>NaN</td>\n",
       "      <td>1N4BZ1CP3KC310289</td>\n",
       "      <td>B02872</td>\n",
       "      <td>right_only</td>\n",
       "    </tr>\n",
       "    <tr>\n",
       "      <th>39</th>\n",
       "      <td>NaN</td>\n",
       "      <td>5YJ3E1EB2KF451563</td>\n",
       "      <td>B02872</td>\n",
       "      <td>right_only</td>\n",
       "    </tr>\n",
       "    <tr>\n",
       "      <th>40</th>\n",
       "      <td>NaN</td>\n",
       "      <td>JN1AZ0CP1BT000287</td>\n",
       "      <td>B02872</td>\n",
       "      <td>right_only</td>\n",
       "    </tr>\n",
       "    <tr>\n",
       "      <th>41</th>\n",
       "      <td>NaN</td>\n",
       "      <td>1N4BZ1CPXKC317840</td>\n",
       "      <td>B02872</td>\n",
       "      <td>right_only</td>\n",
       "    </tr>\n",
       "    <tr>\n",
       "      <th>42</th>\n",
       "      <td>NaN</td>\n",
       "      <td>5YJ3E1EB3JF070464</td>\n",
       "      <td>B02871</td>\n",
       "      <td>right_only</td>\n",
       "    </tr>\n",
       "    <tr>\n",
       "      <th>43</th>\n",
       "      <td>NaN</td>\n",
       "      <td>1G1FW6S04K4127072</td>\n",
       "      <td>B02872</td>\n",
       "      <td>right_only</td>\n",
       "    </tr>\n",
       "    <tr>\n",
       "      <th>44</th>\n",
       "      <td>NaN</td>\n",
       "      <td>5YJ3E1EA2KF472629</td>\n",
       "      <td>B02888</td>\n",
       "      <td>right_only</td>\n",
       "    </tr>\n",
       "    <tr>\n",
       "      <th>45</th>\n",
       "      <td>NaN</td>\n",
       "      <td>5YJSA1AC3DFP11168</td>\n",
       "      <td>B02875</td>\n",
       "      <td>right_only</td>\n",
       "    </tr>\n",
       "    <tr>\n",
       "      <th>46</th>\n",
       "      <td>NaN</td>\n",
       "      <td>5YJ3E1EA7KF483903</td>\n",
       "      <td>B02872</td>\n",
       "      <td>right_only</td>\n",
       "    </tr>\n",
       "    <tr>\n",
       "      <th>47</th>\n",
       "      <td>NaN</td>\n",
       "      <td>5YJSA1E24KF344702</td>\n",
       "      <td>B02872</td>\n",
       "      <td>right_only</td>\n",
       "    </tr>\n",
       "    <tr>\n",
       "      <th>48</th>\n",
       "      <td>NaN</td>\n",
       "      <td>5YJ3E1EA4KF484507</td>\n",
       "      <td>B02872</td>\n",
       "      <td>right_only</td>\n",
       "    </tr>\n",
       "    <tr>\n",
       "      <th>49</th>\n",
       "      <td>NaN</td>\n",
       "      <td>5YJ3E1EB0KF441758</td>\n",
       "      <td>B02872</td>\n",
       "      <td>right_only</td>\n",
       "    </tr>\n",
       "    <tr>\n",
       "      <th>50</th>\n",
       "      <td>NaN</td>\n",
       "      <td>1N4BZ1CP9KC309860</td>\n",
       "      <td>B02872</td>\n",
       "      <td>right_only</td>\n",
       "    </tr>\n",
       "  </tbody>\n",
       "</table>\n",
       "</div>"
      ],
      "text/plain": [
       "                  vin Vehicle VIN Number Base Number      _merge\n",
       "0   4T1BD1EB1JU061411                NaN         NaN   left_only\n",
       "1   5TDDGRFH3HS030066                NaN         NaN   left_only\n",
       "2   4T1BD1EBXJU060404                NaN         NaN   left_only\n",
       "3   JTDKN3DP7C3027041                NaN         NaN   left_only\n",
       "4   JTMRJREV6JD258319                NaN         NaN   left_only\n",
       "5   5TDJGRFH8JS040102                NaN         NaN   left_only\n",
       "6   5TDDGRFH5HS035902                NaN         NaN   left_only\n",
       "7   1FADP5CU8EL521620                NaN         NaN   left_only\n",
       "8   5TDJGRFH7HS029389                NaN         NaN   left_only\n",
       "9   5TDJGRFH1KS059396                NaN         NaN   left_only\n",
       "10  5TDJGRFH4JS049833                NaN         NaN   left_only\n",
       "11  2T2BGMCAXJC020839                NaN         NaN   left_only\n",
       "12  5TDJGRFH0KS067604                NaN         NaN   left_only\n",
       "13  5TDJGRFH8JS037443                NaN         NaN   left_only\n",
       "14  5TDBGRFH2HS024539                NaN         NaN   left_only\n",
       "15  5TDDGRFH6KS055597                NaN         NaN   left_only\n",
       "16  JTMJJREV2JD210541                NaN         NaN   left_only\n",
       "17  5TDJGRFH8KS071125                NaN         NaN   left_only\n",
       "18  5TDJGRFH3KS072943                NaN         NaN   left_only\n",
       "19  5TDBGRFH5KS058577                NaN         NaN   left_only\n",
       "20  JTMDJREV5JD246821                NaN         NaN   left_only\n",
       "21  5TDJGRFH0KS066128                NaN         NaN   left_only\n",
       "22  5TDJGRFHXJS047973                NaN         NaN   left_only\n",
       "23  JTMJJREV9JD257193                NaN         NaN   left_only\n",
       "24                NaN  5YJXCBE25GF004231      B02617  right_only\n",
       "25                NaN  5YJ3E1EB0KF441775      B02872  right_only\n",
       "26                NaN  5YJ3E1EBXKF510620      B02872  right_only\n",
       "27                NaN  5YJSA1E21JF234236      B02864  right_only\n",
       "28                NaN  5YJ3E1EA1KF464747      B02871  right_only\n",
       "29                NaN  1N4AZ1CP3KC306741      B02872  right_only\n",
       "30                NaN  1G1FY6S02K4127825      B02871  right_only\n",
       "31                NaN  5YJSA1E20JF266675      B02872  right_only\n",
       "32                NaN  5YJ3E1EB8KF451454      B02872  right_only\n",
       "33                NaN  KM8K23AGXKU051819      B02872  right_only\n",
       "34                NaN  5YJ3E1EBXKF385568      B02872  right_only\n",
       "35                NaN  5YJSA1E27JF266723      B02872  right_only\n",
       "36                NaN  1G1FY6S05K4142593      B02872  right_only\n",
       "37                NaN  5YJSA1E29GF135608      B02864  right_only\n",
       "38                NaN  1N4BZ1CP3KC310289      B02872  right_only\n",
       "39                NaN  5YJ3E1EB2KF451563      B02872  right_only\n",
       "40                NaN  JN1AZ0CP1BT000287      B02872  right_only\n",
       "41                NaN  1N4BZ1CPXKC317840      B02872  right_only\n",
       "42                NaN  5YJ3E1EB3JF070464      B02871  right_only\n",
       "43                NaN  1G1FW6S04K4127072      B02872  right_only\n",
       "44                NaN  5YJ3E1EA2KF472629      B02888  right_only\n",
       "45                NaN  5YJSA1AC3DFP11168      B02875  right_only\n",
       "46                NaN  5YJ3E1EA7KF483903      B02872  right_only\n",
       "47                NaN  5YJSA1E24KF344702      B02872  right_only\n",
       "48                NaN  5YJ3E1EA4KF484507      B02872  right_only\n",
       "49                NaN  5YJ3E1EB0KF441758      B02872  right_only\n",
       "50                NaN  1N4BZ1CP9KC309860      B02872  right_only"
      ]
     },
     "execution_count": 78,
     "metadata": {},
     "output_type": "execute_result"
    }
   ],
   "source": [
    "bev_check[['vin', 'Vehicle VIN Number', 'Base Number', '_merge']]"
   ]
  },
  {
   "cell_type": "code",
   "execution_count": 79,
   "metadata": {},
   "outputs": [
    {
     "data": {
      "text/html": [
       "<div>\n",
       "<style scoped>\n",
       "    .dataframe tbody tr th:only-of-type {\n",
       "        vertical-align: middle;\n",
       "    }\n",
       "\n",
       "    .dataframe tbody tr th {\n",
       "        vertical-align: top;\n",
       "    }\n",
       "\n",
       "    .dataframe thead th {\n",
       "        text-align: right;\n",
       "    }\n",
       "</style>\n",
       "<table border=\"1\" class=\"dataframe\">\n",
       "  <thead>\n",
       "    <tr style=\"text-align: right;\">\n",
       "      <th></th>\n",
       "      <th>vin</th>\n",
       "      <th>Vehicle VIN Number</th>\n",
       "      <th>Base Number</th>\n",
       "      <th>_merge</th>\n",
       "    </tr>\n",
       "  </thead>\n",
       "  <tbody>\n",
       "  </tbody>\n",
       "</table>\n",
       "</div>"
      ],
      "text/plain": [
       "Empty DataFrame\n",
       "Columns: [vin, Vehicle VIN Number, Base Number, _merge]\n",
       "Index: []"
      ]
     },
     "execution_count": 79,
     "metadata": {},
     "output_type": "execute_result"
    }
   ],
   "source": [
    "bev_check[['vin', 'Vehicle VIN Number', 'Base Number', '_merge']][bev_check['_merge']=='both']"
   ]
  },
  {
   "cell_type": "markdown",
   "metadata": {},
   "source": [
    "Check For-Hire Vehicle BEV are electric in the API."
   ]
  },
  {
   "cell_type": "code",
   "execution_count": 80,
   "metadata": {},
   "outputs": [],
   "source": [
    "bev_mark_vin = ''\n",
    "for i in range(len(bev_mark)):\n",
    "    vin = bev_mark.iloc[i]['Vehicle VIN Number']\n",
    "    bev_mark_vin += '{}; '.format(vin)"
   ]
  },
  {
   "cell_type": "code",
   "execution_count": 81,
   "metadata": {},
   "outputs": [],
   "source": [
    "vin_check_2 = pd.read_csv('VINValuesBatch-2.csv')"
   ]
  },
  {
   "cell_type": "code",
   "execution_count": 82,
   "metadata": {
    "scrolled": true
   },
   "outputs": [
    {
     "data": {
      "text/html": [
       "<div>\n",
       "<style scoped>\n",
       "    .dataframe tbody tr th:only-of-type {\n",
       "        vertical-align: middle;\n",
       "    }\n",
       "\n",
       "    .dataframe tbody tr th {\n",
       "        vertical-align: top;\n",
       "    }\n",
       "\n",
       "    .dataframe thead th {\n",
       "        text-align: right;\n",
       "    }\n",
       "</style>\n",
       "<table border=\"1\" class=\"dataframe\">\n",
       "  <thead>\n",
       "    <tr style=\"text-align: right;\">\n",
       "      <th></th>\n",
       "      <th>vin</th>\n",
       "      <th>fueltypeprimary</th>\n",
       "      <th>fueltypesecondary</th>\n",
       "    </tr>\n",
       "  </thead>\n",
       "  <tbody>\n",
       "    <tr>\n",
       "      <th>0</th>\n",
       "      <td>5YJXCBE25GF004231</td>\n",
       "      <td>Electric</td>\n",
       "      <td>NaN</td>\n",
       "    </tr>\n",
       "    <tr>\n",
       "      <th>1</th>\n",
       "      <td>5YJ3E1EB0KF441775</td>\n",
       "      <td>Electric</td>\n",
       "      <td>NaN</td>\n",
       "    </tr>\n",
       "    <tr>\n",
       "      <th>2</th>\n",
       "      <td>5YJ3E1EBXKF510620</td>\n",
       "      <td>Electric</td>\n",
       "      <td>NaN</td>\n",
       "    </tr>\n",
       "    <tr>\n",
       "      <th>3</th>\n",
       "      <td>5YJSA1E21JF234236</td>\n",
       "      <td>Electric</td>\n",
       "      <td>NaN</td>\n",
       "    </tr>\n",
       "    <tr>\n",
       "      <th>4</th>\n",
       "      <td>5YJ3E1EA1KF464747</td>\n",
       "      <td>Electric</td>\n",
       "      <td>NaN</td>\n",
       "    </tr>\n",
       "    <tr>\n",
       "      <th>5</th>\n",
       "      <td>1N4AZ1CP3KC306741</td>\n",
       "      <td>Electric</td>\n",
       "      <td>NaN</td>\n",
       "    </tr>\n",
       "    <tr>\n",
       "      <th>6</th>\n",
       "      <td>1G1FY6S02K4127825</td>\n",
       "      <td>Electric</td>\n",
       "      <td>NaN</td>\n",
       "    </tr>\n",
       "    <tr>\n",
       "      <th>7</th>\n",
       "      <td>5YJSA1E20JF266675</td>\n",
       "      <td>Electric</td>\n",
       "      <td>NaN</td>\n",
       "    </tr>\n",
       "    <tr>\n",
       "      <th>8</th>\n",
       "      <td>5YJ3E1EB8KF451454</td>\n",
       "      <td>Electric</td>\n",
       "      <td>NaN</td>\n",
       "    </tr>\n",
       "    <tr>\n",
       "      <th>9</th>\n",
       "      <td>KM8K23AGXKU051819</td>\n",
       "      <td>Electric</td>\n",
       "      <td>NaN</td>\n",
       "    </tr>\n",
       "    <tr>\n",
       "      <th>10</th>\n",
       "      <td>5YJ3E1EBXKF385568</td>\n",
       "      <td>Electric</td>\n",
       "      <td>NaN</td>\n",
       "    </tr>\n",
       "    <tr>\n",
       "      <th>11</th>\n",
       "      <td>5YJSA1E27JF266723</td>\n",
       "      <td>Electric</td>\n",
       "      <td>NaN</td>\n",
       "    </tr>\n",
       "    <tr>\n",
       "      <th>12</th>\n",
       "      <td>1G1FY6S05K4142593</td>\n",
       "      <td>Electric</td>\n",
       "      <td>NaN</td>\n",
       "    </tr>\n",
       "    <tr>\n",
       "      <th>13</th>\n",
       "      <td>5YJSA1E29GF135608</td>\n",
       "      <td>Electric</td>\n",
       "      <td>NaN</td>\n",
       "    </tr>\n",
       "    <tr>\n",
       "      <th>14</th>\n",
       "      <td>1N4BZ1CP3KC310289</td>\n",
       "      <td>Electric</td>\n",
       "      <td>NaN</td>\n",
       "    </tr>\n",
       "    <tr>\n",
       "      <th>15</th>\n",
       "      <td>5YJ3E1EB2KF451563</td>\n",
       "      <td>Electric</td>\n",
       "      <td>NaN</td>\n",
       "    </tr>\n",
       "    <tr>\n",
       "      <th>16</th>\n",
       "      <td>JN1AZ0CP1BT000287</td>\n",
       "      <td>Electric</td>\n",
       "      <td>NaN</td>\n",
       "    </tr>\n",
       "    <tr>\n",
       "      <th>17</th>\n",
       "      <td>1N4BZ1CPXKC317840</td>\n",
       "      <td>Electric</td>\n",
       "      <td>NaN</td>\n",
       "    </tr>\n",
       "    <tr>\n",
       "      <th>18</th>\n",
       "      <td>5YJ3E1EB3JF070464</td>\n",
       "      <td>Electric</td>\n",
       "      <td>NaN</td>\n",
       "    </tr>\n",
       "    <tr>\n",
       "      <th>19</th>\n",
       "      <td>1G1FW6S04K4127072</td>\n",
       "      <td>Electric</td>\n",
       "      <td>NaN</td>\n",
       "    </tr>\n",
       "    <tr>\n",
       "      <th>20</th>\n",
       "      <td>5YJ3E1EA2KF472629</td>\n",
       "      <td>Electric</td>\n",
       "      <td>NaN</td>\n",
       "    </tr>\n",
       "    <tr>\n",
       "      <th>21</th>\n",
       "      <td>5YJSA1AC3DFP11168</td>\n",
       "      <td>Electric</td>\n",
       "      <td>NaN</td>\n",
       "    </tr>\n",
       "    <tr>\n",
       "      <th>22</th>\n",
       "      <td>5YJ3E1EA7KF483903</td>\n",
       "      <td>Electric</td>\n",
       "      <td>NaN</td>\n",
       "    </tr>\n",
       "    <tr>\n",
       "      <th>23</th>\n",
       "      <td>5YJSA1E24KF344702</td>\n",
       "      <td>Electric</td>\n",
       "      <td>NaN</td>\n",
       "    </tr>\n",
       "    <tr>\n",
       "      <th>24</th>\n",
       "      <td>5YJ3E1EA4KF484507</td>\n",
       "      <td>Electric</td>\n",
       "      <td>NaN</td>\n",
       "    </tr>\n",
       "    <tr>\n",
       "      <th>25</th>\n",
       "      <td>5YJ3E1EB0KF441758</td>\n",
       "      <td>Electric</td>\n",
       "      <td>NaN</td>\n",
       "    </tr>\n",
       "    <tr>\n",
       "      <th>26</th>\n",
       "      <td>1N4BZ1CP9KC309860</td>\n",
       "      <td>Electric</td>\n",
       "      <td>NaN</td>\n",
       "    </tr>\n",
       "  </tbody>\n",
       "</table>\n",
       "</div>"
      ],
      "text/plain": [
       "                  vin fueltypeprimary  fueltypesecondary\n",
       "0   5YJXCBE25GF004231        Electric                NaN\n",
       "1   5YJ3E1EB0KF441775        Electric                NaN\n",
       "2   5YJ3E1EBXKF510620        Electric                NaN\n",
       "3   5YJSA1E21JF234236        Electric                NaN\n",
       "4   5YJ3E1EA1KF464747        Electric                NaN\n",
       "5   1N4AZ1CP3KC306741        Electric                NaN\n",
       "6   1G1FY6S02K4127825        Electric                NaN\n",
       "7   5YJSA1E20JF266675        Electric                NaN\n",
       "8   5YJ3E1EB8KF451454        Electric                NaN\n",
       "9   KM8K23AGXKU051819        Electric                NaN\n",
       "10  5YJ3E1EBXKF385568        Electric                NaN\n",
       "11  5YJSA1E27JF266723        Electric                NaN\n",
       "12  1G1FY6S05K4142593        Electric                NaN\n",
       "13  5YJSA1E29GF135608        Electric                NaN\n",
       "14  1N4BZ1CP3KC310289        Electric                NaN\n",
       "15  5YJ3E1EB2KF451563        Electric                NaN\n",
       "16  JN1AZ0CP1BT000287        Electric                NaN\n",
       "17  1N4BZ1CPXKC317840        Electric                NaN\n",
       "18  5YJ3E1EB3JF070464        Electric                NaN\n",
       "19  1G1FW6S04K4127072        Electric                NaN\n",
       "20  5YJ3E1EA2KF472629        Electric                NaN\n",
       "21  5YJSA1AC3DFP11168        Electric                NaN\n",
       "22  5YJ3E1EA7KF483903        Electric                NaN\n",
       "23  5YJSA1E24KF344702        Electric                NaN\n",
       "24  5YJ3E1EA4KF484507        Electric                NaN\n",
       "25  5YJ3E1EB0KF441758        Electric                NaN\n",
       "26  1N4BZ1CP9KC309860        Electric                NaN"
      ]
     },
     "execution_count": 82,
     "metadata": {},
     "output_type": "execute_result"
    }
   ],
   "source": [
    "vin_check_2[['vin', 'fueltypeprimary', 'fueltypesecondary']]"
   ]
  },
  {
   "cell_type": "markdown",
   "metadata": {},
   "source": [
    "#### BEV Count"
   ]
  },
  {
   "cell_type": "code",
   "execution_count": 92,
   "metadata": {},
   "outputs": [],
   "source": [
    "for_hire_BEV_Ct = bev_mark[['App', 'Base Number', 'VEH']]\n",
    "for_hire_BEV_Ct = for_hire_BEV_Ct.groupby(['App', 'Base Number']).count()\n",
    "for_hire_BEV_Ct = for_hire_BEV_Ct.reset_index()"
   ]
  },
  {
   "cell_type": "code",
   "execution_count": 93,
   "metadata": {},
   "outputs": [],
   "source": [
    "for_hire_BEV_Ct.columns = ['App', 'Base Number', 'BEV']"
   ]
  },
  {
   "cell_type": "code",
   "execution_count": 94,
   "metadata": {},
   "outputs": [],
   "source": [
    "for_hire_BEVratio = for_hire_Ct.merge(for_hire_BEV_Ct, on=['App', 'Base Number'], how='left')\n",
    "for_hire_BEVratio = for_hire_BEVratio.fillna(0)\n",
    "for_hire_BEVratio['% BEV'] = for_hire_BEVratio['BEV']/for_hire_BEVratio['Total Vehicles']\n",
    "for_hire_BEVratio = for_hire_BEVratio[['App', 'Base Number', '% BEV']]"
   ]
  },
  {
   "cell_type": "code",
   "execution_count": 95,
   "metadata": {},
   "outputs": [
    {
     "name": "stderr",
     "output_type": "stream",
     "text": [
      "/Users/fannyshum/anaconda3/lib/python3.6/site-packages/ipykernel_launcher.py:2: SettingWithCopyWarning: \n",
      "A value is trying to be set on a copy of a slice from a DataFrame.\n",
      "Try using .loc[row_indexer,col_indexer] = value instead\n",
      "\n",
      "See the caveats in the documentation: http://pandas.pydata.org/pandas-docs/stable/indexing.html#indexing-view-versus-copy\n",
      "  \n"
     ]
    }
   ],
   "source": [
    "BEV_Ct = trips_airport[['dispatching_base_number', 'Day']]\n",
    "BEV_Ct['Number of Trips'] = 1"
   ]
  },
  {
   "cell_type": "code",
   "execution_count": 97,
   "metadata": {},
   "outputs": [],
   "source": [
    "BEV_Ct = BEV_Ct.groupby(['dispatching_base_number', 'Day']).sum()\n",
    "BEV_Ct = BEV_Ct.reset_index()"
   ]
  },
  {
   "cell_type": "code",
   "execution_count": 98,
   "metadata": {},
   "outputs": [],
   "source": [
    "BEV_Ct = BEV_Ct.groupby(['dispatching_base_number', 'Day']).sum()\n",
    "BEV_Ct = BEV_Ct.reset_index()\n",
    "BEV_Ct = BEV_Ct.merge(for_hire_BEVratio, left_on = 'dispatching_base_number', right_on = 'Base Number', how='left')\n",
    "BEV_Ct = BEV_Ct[['App', 'dispatching_base_number', 'Day', '% BEV', 'Number of Trips']]\n",
    "BEV_Ct.columns = ['App', 'Base Number', 'Day', '% BEV', 'Number of Trips']\n",
    "BEV_Ct['Approx BEVs'] = BEV_Ct['% BEV']*BEV_Ct['Number of Trips']"
   ]
  },
  {
   "cell_type": "code",
   "execution_count": 100,
   "metadata": {},
   "outputs": [],
   "source": [
    "Approx_BEV = BEV_Ct[['App', 'Day', 'Approx BEVs']]\n",
    "Approx_BEV = Approx_BEV.groupby(['App', 'Day']).sum()\n",
    "Approx_BEV = Approx_BEV.reset_index()"
   ]
  },
  {
   "cell_type": "markdown",
   "metadata": {},
   "source": [
    "#### Visualization"
   ]
  },
  {
   "cell_type": "code",
   "execution_count": 102,
   "metadata": {},
   "outputs": [
    {
     "data": {
      "application/javascript": [
       "const spec = {\"config\": {\"view\": {\"width\": 400, \"height\": 300}, \"mark\": {\"tooltip\": null}}, \"vconcat\": [{\"mark\": \"point\", \"encoding\": {\"color\": {\"condition\": {\"type\": \"nominal\", \"field\": \"App\", \"selection\": \"selector007\"}, \"value\": \"white\"}, \"tooltip\": [{\"type\": \"nominal\", \"field\": \"App\"}, {\"type\": \"quantitative\", \"field\": \"Approx BEVs\"}], \"x\": {\"type\": \"temporal\", \"axis\": {\"format\": \"%A %d\", \"title\": \"DATE\"}, \"field\": \"Day\"}, \"y\": {\"type\": \"quantitative\", \"field\": \"Approx BEVs\"}}, \"selection\": {\"selector007\": {\"type\": \"multi\", \"encodings\": [\"x\"]}}, \"title\": \"Approximate BEV Rides for Airport Pickups in January 8 - 15, 2018\", \"width\": 600}, {\"mark\": \"bar\", \"encoding\": {\"color\": {\"condition\": {\"type\": \"nominal\", \"field\": \"App\", \"selection\": \"selector007\"}, \"value\": \"lightgray\"}, \"tooltip\": {\"type\": \"quantitative\", \"aggregate\": \"sum\", \"field\": \"Approx BEVs\", \"title\": \"Total Count for 0      Lyft\\n1      Lyft\\n2      Lyft\\n3      Lyft\\n4      Lyft\\n5      Lyft\\n6      Lyft\\n7     Other\\n8     Other\\n9     Other\\n10    Other\\n11    Other\\n12    Other\\n13    Other\\n14    Other\\n15     Uber\\n16     Uber\\n17     Uber\\n18     Uber\\n19     Uber\\n20     Uber\\n21     Uber\\n22     Uber\\n23      Via\\n24      Via\\n25      Via\\n26      Via\\n27      Via\\n28      Via\\n29      Via\\nName: App, dtype: object\"}, \"x\": {\"type\": \"nominal\", \"field\": \"App\"}, \"y\": {\"type\": \"quantitative\", \"aggregate\": \"sum\", \"field\": \"Approx BEVs\"}}, \"height\": 200, \"selection\": {\"selector007\": {\"type\": \"multi\", \"encodings\": [\"x\"]}}, \"width\": 600}], \"data\": {\"name\": \"data-7b7cfba8f8613b8452df677e31613847\"}, \"$schema\": \"https://vega.github.io/schema/vega-lite/v3.4.0.json\", \"datasets\": {\"data-7b7cfba8f8613b8452df677e31613847\": [{\"App\": \"Lyft\", \"Day\": \"01/08/2018\", \"Approx BEVs\": 0.0}, {\"App\": \"Lyft\", \"Day\": \"01/09/2018\", \"Approx BEVs\": 0.0}, {\"App\": \"Lyft\", \"Day\": \"01/10/2018\", \"Approx BEVs\": 0.0}, {\"App\": \"Lyft\", \"Day\": \"01/11/2018\", \"Approx BEVs\": 0.0}, {\"App\": \"Lyft\", \"Day\": \"01/12/2018\", \"Approx BEVs\": 0.0}, {\"App\": \"Lyft\", \"Day\": \"01/13/2018\", \"Approx BEVs\": 0.0}, {\"App\": \"Lyft\", \"Day\": \"01/14/2018\", \"Approx BEVs\": 0.0}, {\"App\": \"Other\", \"Day\": \"01/08/2018\", \"Approx BEVs\": 0.2639847939588688}, {\"App\": \"Other\", \"Day\": \"01/09/2018\", \"Approx BEVs\": 0.2143729971663072}, {\"App\": \"Other\", \"Day\": \"01/10/2018\", \"Approx BEVs\": 0.16887286866856893}, {\"App\": \"Other\", \"Day\": \"01/11/2018\", \"Approx BEVs\": 0.23322093130907687}, {\"App\": \"Other\", \"Day\": \"01/12/2018\", \"Approx BEVs\": 0.23387068122472998}, {\"App\": \"Other\", \"Day\": \"01/13/2018\", \"Approx BEVs\": 0.20721148497484115}, {\"App\": \"Other\", \"Day\": \"01/14/2018\", \"Approx BEVs\": 0.1869164925485575}, {\"App\": \"Other\", \"Day\": \"01/15/2018\", \"Approx BEVs\": 0.0}, {\"App\": \"Uber\", \"Day\": \"01/08/2018\", \"Approx BEVs\": 0.8926012952146359}, {\"App\": \"Uber\", \"Day\": \"01/09/2018\", \"Approx BEVs\": 0.798475096445349}, {\"App\": \"Uber\", \"Day\": \"01/10/2018\", \"Approx BEVs\": 0.7036782437814435}, {\"App\": \"Uber\", \"Day\": \"01/11/2018\", \"Approx BEVs\": 0.9056686758084561}, {\"App\": \"Uber\", \"Day\": \"01/12/2018\", \"Approx BEVs\": 0.8528721160854738}, {\"App\": \"Uber\", \"Day\": \"01/13/2018\", \"Approx BEVs\": 0.8419315037921836}, {\"App\": \"Uber\", \"Day\": \"01/14/2018\", \"Approx BEVs\": 0.7132715845354596}, {\"App\": \"Uber\", \"Day\": \"01/15/2018\", \"Approx BEVs\": 0.0}, {\"App\": \"Via\", \"Day\": \"01/08/2018\", \"Approx BEVs\": 0.0}, {\"App\": \"Via\", \"Day\": \"01/09/2018\", \"Approx BEVs\": 0.0}, {\"App\": \"Via\", \"Day\": \"01/10/2018\", \"Approx BEVs\": 0.0}, {\"App\": \"Via\", \"Day\": \"01/11/2018\", \"Approx BEVs\": 0.0}, {\"App\": \"Via\", \"Day\": \"01/12/2018\", \"Approx BEVs\": 0.0}, {\"App\": \"Via\", \"Day\": \"01/13/2018\", \"Approx BEVs\": 0.0}, {\"App\": \"Via\", \"Day\": \"01/14/2018\", \"Approx BEVs\": 0.0}]}};\n",
       "const opt = {};\n",
       "const type = \"vega-lite\";\n",
       "const id = \"02738d4b-c9d7-46a5-94c8-f43a908ed220\";\n",
       "\n",
       "const output_area = this;\n",
       "\n",
       "require([\"nbextensions/jupyter-vega/index\"], function(vega) {\n",
       "  const target = document.createElement(\"div\");\n",
       "  target.id = id;\n",
       "  target.className = \"vega-embed\";\n",
       "\n",
       "  const style = document.createElement(\"style\");\n",
       "  style.textContent = [\n",
       "    \".vega-embed .error p {\",\n",
       "    \"  color: firebrick;\",\n",
       "    \"  font-size: 14px;\",\n",
       "    \"}\",\n",
       "  ].join(\"\\\\n\");\n",
       "\n",
       "  // element is a jQuery wrapped DOM element inside the output area\n",
       "  // see http://ipython.readthedocs.io/en/stable/api/generated/\\\n",
       "  // IPython.display.html#IPython.display.Javascript.__init__\n",
       "  element[0].appendChild(target);\n",
       "  element[0].appendChild(style);\n",
       "\n",
       "  vega.render(\"#\" + id, spec, type, opt, output_area);\n",
       "}, function (err) {\n",
       "  if (err.requireType !== \"scripterror\") {\n",
       "    throw(err);\n",
       "  }\n",
       "});\n"
      ],
      "text/plain": [
       "<vega.vegalite.VegaLite at 0x1275ad0b8>"
      ]
     },
     "metadata": {
      "jupyter-vega": "#02738d4b-c9d7-46a5-94c8-f43a908ed220"
     },
     "output_type": "display_data"
    },
    {
     "data": {
      "text/plain": []
     },
     "execution_count": 102,
     "metadata": {},
     "output_type": "execute_result"
    },
    {
     "data": {
      "image/png": "[encoded data removed]"
     },
     "metadata": {
      "jupyter-vega": "#02738d4b-c9d7-46a5-94c8-f43a908ed220"
     },
     "output_type": "display_data"
    }
   ],
   "source": [
    "src = Approx_BEV\n",
    "size_selector = alt.selection_multi(encodings=['x'])\n",
    "\n",
    "scatter = alt.Chart(src, \n",
    "                    title=\"Approximate BEV Rides for Airport Pickups in January 8 - 15, 2018\", \n",
    "                    width=600).mark_point().encode(alt.X(\"Day:T\"\n",
    "                             , axis = alt.Axis(title = 'Date'.upper(), format = (\"%A %d\"))\n",
    "                             ),\n",
    "    y=\"Approx BEVs:Q\",\n",
    "    color = alt.condition( size_selector , \"App:N\", alt.value(\"white\")), \n",
    "    tooltip=('App', 'Approx BEVs')\n",
    ").add_selection(size_selector)\n",
    "\n",
    "\n",
    "size_hist = alt.Chart(src, width=600, height=200).mark_bar().encode(\n",
    "    alt.X(\"App:N\"            \n",
    "        ),\n",
    "    y = \"sum(Approx BEVs):Q\",\n",
    "    color = alt.condition(size_selector, 'App:N', alt.value(\"lightgray\")),\n",
    "    tooltip = (alt.Tooltip('sum(Approx BEVs)', title='Total Count for {}'.format(src['App'])))\n",
    ").add_selection(size_selector) #this binds the selector to the plot\n",
    "\n",
    "scatter & size_hist"
   ]
  },
  {
   "cell_type": "markdown",
   "metadata": {},
   "source": [
    "## Merge Into One DataFrame"
   ]
  },
  {
   "cell_type": "code",
   "execution_count": 66,
   "metadata": {},
   "outputs": [],
   "source": [
    "sharedByApp_sum.columns = ['App', 'Day', 'Shared Trips']"
   ]
  },
  {
   "cell_type": "code",
   "execution_count": 68,
   "metadata": {},
   "outputs": [],
   "source": [
    "trip_summary = overall_byApp.merge(sharedByApp_sum, on=['App', 'Day'], how='left')"
   ]
  },
  {
   "cell_type": "code",
   "execution_count": 69,
   "metadata": {},
   "outputs": [],
   "source": [
    "trip_summary = trip_summary.fillna(0)\n",
    "trip_summary['Shared Trips'] = trip_summary['Shared Trips'].astype(int)"
   ]
  },
  {
   "cell_type": "code",
   "execution_count": 70,
   "metadata": {},
   "outputs": [],
   "source": [
    "trip_summary['% Shared'] = round(trip_summary['Shared Trips']/trip_summary['Number of Trips'], 3)"
   ]
  },
  {
   "cell_type": "code",
   "execution_count": 71,
   "metadata": {},
   "outputs": [],
   "source": [
    "trip_summary = trip_summary.merge(Approx_WAV, on=['App', 'Day'], how='left')"
   ]
  },
  {
   "cell_type": "code",
   "execution_count": 72,
   "metadata": {},
   "outputs": [],
   "source": [
    "trip_summary = trip_summary.fillna(0)\n",
    "trip_summary['Approx WAVs'] = round(trip_summary['Approx WAVs'], 1)\n",
    "trip_summary['% Approx WAVs'] = round(trip_summary['Approx WAVs']/trip_summary['Number of Trips'], 3)"
   ]
  },
  {
   "cell_type": "code",
   "execution_count": 103,
   "metadata": {},
   "outputs": [],
   "source": [
    "trip_summary = trip_summary.merge(Approx_BEV, on=['App', 'Day'], how='left')"
   ]
  },
  {
   "cell_type": "code",
   "execution_count": 104,
   "metadata": {},
   "outputs": [],
   "source": [
    "trip_summary = trip_summary.fillna(0)\n",
    "trip_summary['Approx BEVs'] = round(trip_summary['Approx BEVs'], 1)\n",
    "trip_summary['% Approx BEVs'] = round(trip_summary['Approx BEVs']/trip_summary['Number of Trips'], 3)"
   ]
  },
  {
   "cell_type": "code",
   "execution_count": 105,
   "metadata": {},
   "outputs": [
    {
     "data": {
      "text/html": [
       "<div>\n",
       "<style scoped>\n",
       "    .dataframe tbody tr th:only-of-type {\n",
       "        vertical-align: middle;\n",
       "    }\n",
       "\n",
       "    .dataframe tbody tr th {\n",
       "        vertical-align: top;\n",
       "    }\n",
       "\n",
       "    .dataframe thead th {\n",
       "        text-align: right;\n",
       "    }\n",
       "</style>\n",
       "<table border=\"1\" class=\"dataframe\">\n",
       "  <thead>\n",
       "    <tr style=\"text-align: right;\">\n",
       "      <th></th>\n",
       "      <th>App</th>\n",
       "      <th>Day</th>\n",
       "      <th>Number of Trips</th>\n",
       "      <th>Shared Trips</th>\n",
       "      <th>% Shared</th>\n",
       "      <th>Approx WAVs</th>\n",
       "      <th>% Approx WAVs</th>\n",
       "      <th>Approx BEVs</th>\n",
       "      <th>% Approx BEVs</th>\n",
       "    </tr>\n",
       "  </thead>\n",
       "  <tbody>\n",
       "    <tr>\n",
       "      <th>0</th>\n",
       "      <td>Lyft</td>\n",
       "      <td>01/08/2018</td>\n",
       "      <td>4001</td>\n",
       "      <td>1195</td>\n",
       "      <td>0.299</td>\n",
       "      <td>0.0</td>\n",
       "      <td>0.000</td>\n",
       "      <td>0.0</td>\n",
       "      <td>0.0</td>\n",
       "    </tr>\n",
       "    <tr>\n",
       "      <th>1</th>\n",
       "      <td>Lyft</td>\n",
       "      <td>01/09/2018</td>\n",
       "      <td>3326</td>\n",
       "      <td>1000</td>\n",
       "      <td>0.301</td>\n",
       "      <td>0.0</td>\n",
       "      <td>0.000</td>\n",
       "      <td>0.0</td>\n",
       "      <td>0.0</td>\n",
       "    </tr>\n",
       "    <tr>\n",
       "      <th>2</th>\n",
       "      <td>Lyft</td>\n",
       "      <td>01/10/2018</td>\n",
       "      <td>3043</td>\n",
       "      <td>881</td>\n",
       "      <td>0.290</td>\n",
       "      <td>0.0</td>\n",
       "      <td>0.000</td>\n",
       "      <td>0.0</td>\n",
       "      <td>0.0</td>\n",
       "    </tr>\n",
       "    <tr>\n",
       "      <th>3</th>\n",
       "      <td>Lyft</td>\n",
       "      <td>01/11/2018</td>\n",
       "      <td>3821</td>\n",
       "      <td>972</td>\n",
       "      <td>0.254</td>\n",
       "      <td>0.0</td>\n",
       "      <td>0.000</td>\n",
       "      <td>0.0</td>\n",
       "      <td>0.0</td>\n",
       "    </tr>\n",
       "    <tr>\n",
       "      <th>4</th>\n",
       "      <td>Lyft</td>\n",
       "      <td>01/12/2018</td>\n",
       "      <td>4029</td>\n",
       "      <td>1060</td>\n",
       "      <td>0.263</td>\n",
       "      <td>0.0</td>\n",
       "      <td>0.000</td>\n",
       "      <td>0.0</td>\n",
       "      <td>0.0</td>\n",
       "    </tr>\n",
       "    <tr>\n",
       "      <th>5</th>\n",
       "      <td>Lyft</td>\n",
       "      <td>01/13/2018</td>\n",
       "      <td>3984</td>\n",
       "      <td>1206</td>\n",
       "      <td>0.303</td>\n",
       "      <td>0.0</td>\n",
       "      <td>0.000</td>\n",
       "      <td>0.0</td>\n",
       "      <td>0.0</td>\n",
       "    </tr>\n",
       "    <tr>\n",
       "      <th>6</th>\n",
       "      <td>Lyft</td>\n",
       "      <td>01/14/2018</td>\n",
       "      <td>3591</td>\n",
       "      <td>1167</td>\n",
       "      <td>0.325</td>\n",
       "      <td>0.0</td>\n",
       "      <td>0.000</td>\n",
       "      <td>0.0</td>\n",
       "      <td>0.0</td>\n",
       "    </tr>\n",
       "    <tr>\n",
       "      <th>7</th>\n",
       "      <td>Other</td>\n",
       "      <td>01/08/2018</td>\n",
       "      <td>2016</td>\n",
       "      <td>115</td>\n",
       "      <td>0.057</td>\n",
       "      <td>0.7</td>\n",
       "      <td>0.000</td>\n",
       "      <td>0.3</td>\n",
       "      <td>0.0</td>\n",
       "    </tr>\n",
       "    <tr>\n",
       "      <th>8</th>\n",
       "      <td>Other</td>\n",
       "      <td>01/09/2018</td>\n",
       "      <td>1872</td>\n",
       "      <td>90</td>\n",
       "      <td>0.048</td>\n",
       "      <td>0.5</td>\n",
       "      <td>0.000</td>\n",
       "      <td>0.2</td>\n",
       "      <td>0.0</td>\n",
       "    </tr>\n",
       "    <tr>\n",
       "      <th>9</th>\n",
       "      <td>Other</td>\n",
       "      <td>01/10/2018</td>\n",
       "      <td>1813</td>\n",
       "      <td>87</td>\n",
       "      <td>0.048</td>\n",
       "      <td>0.5</td>\n",
       "      <td>0.000</td>\n",
       "      <td>0.2</td>\n",
       "      <td>0.0</td>\n",
       "    </tr>\n",
       "    <tr>\n",
       "      <th>10</th>\n",
       "      <td>Other</td>\n",
       "      <td>01/11/2018</td>\n",
       "      <td>2163</td>\n",
       "      <td>75</td>\n",
       "      <td>0.035</td>\n",
       "      <td>0.6</td>\n",
       "      <td>0.000</td>\n",
       "      <td>0.2</td>\n",
       "      <td>0.0</td>\n",
       "    </tr>\n",
       "    <tr>\n",
       "      <th>11</th>\n",
       "      <td>Other</td>\n",
       "      <td>01/12/2018</td>\n",
       "      <td>2058</td>\n",
       "      <td>96</td>\n",
       "      <td>0.047</td>\n",
       "      <td>0.5</td>\n",
       "      <td>0.000</td>\n",
       "      <td>0.2</td>\n",
       "      <td>0.0</td>\n",
       "    </tr>\n",
       "    <tr>\n",
       "      <th>12</th>\n",
       "      <td>Other</td>\n",
       "      <td>01/13/2018</td>\n",
       "      <td>1655</td>\n",
       "      <td>94</td>\n",
       "      <td>0.057</td>\n",
       "      <td>0.5</td>\n",
       "      <td>0.000</td>\n",
       "      <td>0.2</td>\n",
       "      <td>0.0</td>\n",
       "    </tr>\n",
       "    <tr>\n",
       "      <th>13</th>\n",
       "      <td>Other</td>\n",
       "      <td>01/14/2018</td>\n",
       "      <td>1449</td>\n",
       "      <td>87</td>\n",
       "      <td>0.060</td>\n",
       "      <td>0.4</td>\n",
       "      <td>0.000</td>\n",
       "      <td>0.2</td>\n",
       "      <td>0.0</td>\n",
       "    </tr>\n",
       "    <tr>\n",
       "      <th>14</th>\n",
       "      <td>Other</td>\n",
       "      <td>01/15/2018</td>\n",
       "      <td>2</td>\n",
       "      <td>0</td>\n",
       "      <td>0.000</td>\n",
       "      <td>0.0</td>\n",
       "      <td>0.000</td>\n",
       "      <td>0.0</td>\n",
       "      <td>0.0</td>\n",
       "    </tr>\n",
       "    <tr>\n",
       "      <th>15</th>\n",
       "      <td>Uber</td>\n",
       "      <td>01/08/2018</td>\n",
       "      <td>10443</td>\n",
       "      <td>1025</td>\n",
       "      <td>0.098</td>\n",
       "      <td>21.5</td>\n",
       "      <td>0.002</td>\n",
       "      <td>0.9</td>\n",
       "      <td>0.0</td>\n",
       "    </tr>\n",
       "    <tr>\n",
       "      <th>16</th>\n",
       "      <td>Uber</td>\n",
       "      <td>01/09/2018</td>\n",
       "      <td>8953</td>\n",
       "      <td>804</td>\n",
       "      <td>0.090</td>\n",
       "      <td>19.8</td>\n",
       "      <td>0.002</td>\n",
       "      <td>0.8</td>\n",
       "      <td>0.0</td>\n",
       "    </tr>\n",
       "    <tr>\n",
       "      <th>17</th>\n",
       "      <td>Uber</td>\n",
       "      <td>01/10/2018</td>\n",
       "      <td>8070</td>\n",
       "      <td>723</td>\n",
       "      <td>0.090</td>\n",
       "      <td>16.2</td>\n",
       "      <td>0.002</td>\n",
       "      <td>0.7</td>\n",
       "      <td>0.0</td>\n",
       "    </tr>\n",
       "    <tr>\n",
       "      <th>18</th>\n",
       "      <td>Uber</td>\n",
       "      <td>01/11/2018</td>\n",
       "      <td>10209</td>\n",
       "      <td>779</td>\n",
       "      <td>0.076</td>\n",
       "      <td>21.9</td>\n",
       "      <td>0.002</td>\n",
       "      <td>0.9</td>\n",
       "      <td>0.0</td>\n",
       "    </tr>\n",
       "    <tr>\n",
       "      <th>19</th>\n",
       "      <td>Uber</td>\n",
       "      <td>01/12/2018</td>\n",
       "      <td>9901</td>\n",
       "      <td>706</td>\n",
       "      <td>0.071</td>\n",
       "      <td>20.4</td>\n",
       "      <td>0.002</td>\n",
       "      <td>0.9</td>\n",
       "      <td>0.0</td>\n",
       "    </tr>\n",
       "    <tr>\n",
       "      <th>20</th>\n",
       "      <td>Uber</td>\n",
       "      <td>01/13/2018</td>\n",
       "      <td>8966</td>\n",
       "      <td>742</td>\n",
       "      <td>0.083</td>\n",
       "      <td>19.7</td>\n",
       "      <td>0.002</td>\n",
       "      <td>0.8</td>\n",
       "      <td>0.0</td>\n",
       "    </tr>\n",
       "    <tr>\n",
       "      <th>21</th>\n",
       "      <td>Uber</td>\n",
       "      <td>01/14/2018</td>\n",
       "      <td>8576</td>\n",
       "      <td>861</td>\n",
       "      <td>0.100</td>\n",
       "      <td>17.4</td>\n",
       "      <td>0.002</td>\n",
       "      <td>0.7</td>\n",
       "      <td>0.0</td>\n",
       "    </tr>\n",
       "    <tr>\n",
       "      <th>22</th>\n",
       "      <td>Uber</td>\n",
       "      <td>01/15/2018</td>\n",
       "      <td>1</td>\n",
       "      <td>0</td>\n",
       "      <td>0.000</td>\n",
       "      <td>0.0</td>\n",
       "      <td>0.000</td>\n",
       "      <td>0.0</td>\n",
       "      <td>0.0</td>\n",
       "    </tr>\n",
       "    <tr>\n",
       "      <th>23</th>\n",
       "      <td>Via</td>\n",
       "      <td>01/08/2018</td>\n",
       "      <td>264</td>\n",
       "      <td>48</td>\n",
       "      <td>0.182</td>\n",
       "      <td>0.0</td>\n",
       "      <td>0.000</td>\n",
       "      <td>0.0</td>\n",
       "      <td>0.0</td>\n",
       "    </tr>\n",
       "    <tr>\n",
       "      <th>24</th>\n",
       "      <td>Via</td>\n",
       "      <td>01/09/2018</td>\n",
       "      <td>171</td>\n",
       "      <td>44</td>\n",
       "      <td>0.257</td>\n",
       "      <td>0.0</td>\n",
       "      <td>0.000</td>\n",
       "      <td>0.0</td>\n",
       "      <td>0.0</td>\n",
       "    </tr>\n",
       "    <tr>\n",
       "      <th>25</th>\n",
       "      <td>Via</td>\n",
       "      <td>01/10/2018</td>\n",
       "      <td>145</td>\n",
       "      <td>37</td>\n",
       "      <td>0.255</td>\n",
       "      <td>0.0</td>\n",
       "      <td>0.000</td>\n",
       "      <td>0.0</td>\n",
       "      <td>0.0</td>\n",
       "    </tr>\n",
       "    <tr>\n",
       "      <th>26</th>\n",
       "      <td>Via</td>\n",
       "      <td>01/11/2018</td>\n",
       "      <td>154</td>\n",
       "      <td>35</td>\n",
       "      <td>0.227</td>\n",
       "      <td>0.0</td>\n",
       "      <td>0.000</td>\n",
       "      <td>0.0</td>\n",
       "      <td>0.0</td>\n",
       "    </tr>\n",
       "    <tr>\n",
       "      <th>27</th>\n",
       "      <td>Via</td>\n",
       "      <td>01/12/2018</td>\n",
       "      <td>150</td>\n",
       "      <td>30</td>\n",
       "      <td>0.200</td>\n",
       "      <td>0.0</td>\n",
       "      <td>0.000</td>\n",
       "      <td>0.0</td>\n",
       "      <td>0.0</td>\n",
       "    </tr>\n",
       "    <tr>\n",
       "      <th>28</th>\n",
       "      <td>Via</td>\n",
       "      <td>01/13/2018</td>\n",
       "      <td>156</td>\n",
       "      <td>35</td>\n",
       "      <td>0.224</td>\n",
       "      <td>0.0</td>\n",
       "      <td>0.000</td>\n",
       "      <td>0.0</td>\n",
       "      <td>0.0</td>\n",
       "    </tr>\n",
       "    <tr>\n",
       "      <th>29</th>\n",
       "      <td>Via</td>\n",
       "      <td>01/14/2018</td>\n",
       "      <td>216</td>\n",
       "      <td>39</td>\n",
       "      <td>0.181</td>\n",
       "      <td>0.0</td>\n",
       "      <td>0.000</td>\n",
       "      <td>0.0</td>\n",
       "      <td>0.0</td>\n",
       "    </tr>\n",
       "  </tbody>\n",
       "</table>\n",
       "</div>"
      ],
      "text/plain": [
       "      App         Day  Number of Trips  Shared Trips  % Shared  Approx WAVs  \\\n",
       "0    Lyft  01/08/2018             4001          1195     0.299          0.0   \n",
       "1    Lyft  01/09/2018             3326          1000     0.301          0.0   \n",
       "2    Lyft  01/10/2018             3043           881     0.290          0.0   \n",
       "3    Lyft  01/11/2018             3821           972     0.254          0.0   \n",
       "4    Lyft  01/12/2018             4029          1060     0.263          0.0   \n",
       "5    Lyft  01/13/2018             3984          1206     0.303          0.0   \n",
       "6    Lyft  01/14/2018             3591          1167     0.325          0.0   \n",
       "7   Other  01/08/2018             2016           115     0.057          0.7   \n",
       "8   Other  01/09/2018             1872            90     0.048          0.5   \n",
       "9   Other  01/10/2018             1813            87     0.048          0.5   \n",
       "10  Other  01/11/2018             2163            75     0.035          0.6   \n",
       "11  Other  01/12/2018             2058            96     0.047          0.5   \n",
       "12  Other  01/13/2018             1655            94     0.057          0.5   \n",
       "13  Other  01/14/2018             1449            87     0.060          0.4   \n",
       "14  Other  01/15/2018                2             0     0.000          0.0   \n",
       "15   Uber  01/08/2018            10443          1025     0.098         21.5   \n",
       "16   Uber  01/09/2018             8953           804     0.090         19.8   \n",
       "17   Uber  01/10/2018             8070           723     0.090         16.2   \n",
       "18   Uber  01/11/2018            10209           779     0.076         21.9   \n",
       "19   Uber  01/12/2018             9901           706     0.071         20.4   \n",
       "20   Uber  01/13/2018             8966           742     0.083         19.7   \n",
       "21   Uber  01/14/2018             8576           861     0.100         17.4   \n",
       "22   Uber  01/15/2018                1             0     0.000          0.0   \n",
       "23    Via  01/08/2018              264            48     0.182          0.0   \n",
       "24    Via  01/09/2018              171            44     0.257          0.0   \n",
       "25    Via  01/10/2018              145            37     0.255          0.0   \n",
       "26    Via  01/11/2018              154            35     0.227          0.0   \n",
       "27    Via  01/12/2018              150            30     0.200          0.0   \n",
       "28    Via  01/13/2018              156            35     0.224          0.0   \n",
       "29    Via  01/14/2018              216            39     0.181          0.0   \n",
       "\n",
       "    % Approx WAVs  Approx BEVs  % Approx BEVs  \n",
       "0           0.000          0.0            0.0  \n",
       "1           0.000          0.0            0.0  \n",
       "2           0.000          0.0            0.0  \n",
       "3           0.000          0.0            0.0  \n",
       "4           0.000          0.0            0.0  \n",
       "5           0.000          0.0            0.0  \n",
       "6           0.000          0.0            0.0  \n",
       "7           0.000          0.3            0.0  \n",
       "8           0.000          0.2            0.0  \n",
       "9           0.000          0.2            0.0  \n",
       "10          0.000          0.2            0.0  \n",
       "11          0.000          0.2            0.0  \n",
       "12          0.000          0.2            0.0  \n",
       "13          0.000          0.2            0.0  \n",
       "14          0.000          0.0            0.0  \n",
       "15          0.002          0.9            0.0  \n",
       "16          0.002          0.8            0.0  \n",
       "17          0.002          0.7            0.0  \n",
       "18          0.002          0.9            0.0  \n",
       "19          0.002          0.9            0.0  \n",
       "20          0.002          0.8            0.0  \n",
       "21          0.002          0.7            0.0  \n",
       "22          0.000          0.0            0.0  \n",
       "23          0.000          0.0            0.0  \n",
       "24          0.000          0.0            0.0  \n",
       "25          0.000          0.0            0.0  \n",
       "26          0.000          0.0            0.0  \n",
       "27          0.000          0.0            0.0  \n",
       "28          0.000          0.0            0.0  \n",
       "29          0.000          0.0            0.0  "
      ]
     },
     "execution_count": 105,
     "metadata": {},
     "output_type": "execute_result"
    }
   ],
   "source": [
    "trip_summary"
   ]
  },
  {
   "cell_type": "code",
   "execution_count": 106,
   "metadata": {},
   "outputs": [],
   "source": [
    "trip_summary.to_csv('trip_summary.csv')"
   ]
  },
  {
   "cell_type": "markdown",
   "metadata": {},
   "source": [
    "## Task 2\n",
    "Below is an example of a visualization that can be useful for a quick analysis of the day-by-day trend of shared trips, WAV trips, and BEV trips."
   ]
  },
  {
   "cell_type": "code",
   "execution_count": 107,
   "metadata": {},
   "outputs": [],
   "source": [
    "trip_type_1 = trip_summary[['Day', 'App', 'Shared Trips']]\n",
    "trip_type_2 =trip_summary[['Day', 'App', 'Approx WAVs']]\n",
    "trip_type_3 =trip_summary[['Day', 'App', 'Approx BEVs']]"
   ]
  },
  {
   "cell_type": "code",
   "execution_count": 111,
   "metadata": {},
   "outputs": [],
   "source": [
    "trip_type_1.columns = [ 'Day', 'App','Count']\n",
    "trip_type_2.columns = ['Day', 'App','Count']\n",
    "trip_type_3.columns = [ 'Day', 'App','Count']"
   ]
  },
  {
   "cell_type": "code",
   "execution_count": 109,
   "metadata": {},
   "outputs": [],
   "source": [
    "App = ['Uber', 'Lyft', 'Via', 'Juno', 'Other']"
   ]
  },
  {
   "cell_type": "code",
   "execution_count": 112,
   "metadata": {},
   "outputs": [
    {
     "data": {
      "application/javascript": [
       "const spec = {\"config\": {\"view\": {\"width\": 400, \"height\": 300}, \"mark\": {\"tooltip\": null}}, \"vconcat\": [{\"mark\": \"line\", \"encoding\": {\"x\": {\"type\": \"temporal\", \"field\": \"Day\", \"scale\": {\"domain\": {\"selection\": \"selector010\"}}}, \"y\": {\"type\": \"quantitative\", \"field\": \"Count\", \"title\": \" \"}}, \"height\": 240, \"selection\": {\"Company\": {\"type\": \"single\", \"fields\": [\"App\"], \"on\": \"doubleclick\", \"clear\": false, \"bind\": {\"input\": \"select\", \"options\": [\"Uber\", \"Lyft\", \"Via\", \"Juno\", \"Other\"]}, \"init\": {\"App\": \"Uber\"}}}, \"title\": \"Shared Trip Trend By App\", \"transform\": [{\"filter\": {\"selection\": \"Company\"}}], \"width\": 600}, {\"mark\": \"line\", \"encoding\": {\"x\": {\"type\": \"temporal\", \"field\": \"Day\", \"scale\": {\"domain\": {\"selection\": \"selector010\"}}}, \"y\": {\"type\": \"quantitative\", \"field\": \"Count\", \"title\": \" \"}}, \"height\": 60, \"selection\": {\"Company\": {\"type\": \"single\", \"fields\": [\"App\"], \"on\": \"doubleclick\", \"clear\": false, \"bind\": {\"input\": \"select\", \"options\": [\"Uber\", \"Lyft\", \"Via\", \"Juno\", \"Other\"]}, \"init\": {\"App\": \"Uber\"}}, \"selector010\": {\"type\": \"interval\", \"encodings\": [\"x\"], \"clear\": false}}, \"title\": \"Shared Trip Trend By App\", \"transform\": [{\"filter\": {\"selection\": \"Company\"}}, {\"filter\": {\"selection\": \"Company\"}}], \"width\": 600}], \"data\": {\"name\": \"data-eec3525a1ed89d3b8aba33988b5205c1\"}, \"$schema\": \"https://vega.github.io/schema/vega-lite/v3.4.0.json\", \"datasets\": {\"data-eec3525a1ed89d3b8aba33988b5205c1\": [{\"Day\": \"01/08/2018\", \"App\": \"Lyft\", \"Count\": 1195}, {\"Day\": \"01/09/2018\", \"App\": \"Lyft\", \"Count\": 1000}, {\"Day\": \"01/10/2018\", \"App\": \"Lyft\", \"Count\": 881}, {\"Day\": \"01/11/2018\", \"App\": \"Lyft\", \"Count\": 972}, {\"Day\": \"01/12/2018\", \"App\": \"Lyft\", \"Count\": 1060}, {\"Day\": \"01/13/2018\", \"App\": \"Lyft\", \"Count\": 1206}, {\"Day\": \"01/14/2018\", \"App\": \"Lyft\", \"Count\": 1167}, {\"Day\": \"01/08/2018\", \"App\": \"Other\", \"Count\": 115}, {\"Day\": \"01/09/2018\", \"App\": \"Other\", \"Count\": 90}, {\"Day\": \"01/10/2018\", \"App\": \"Other\", \"Count\": 87}, {\"Day\": \"01/11/2018\", \"App\": \"Other\", \"Count\": 75}, {\"Day\": \"01/12/2018\", \"App\": \"Other\", \"Count\": 96}, {\"Day\": \"01/13/2018\", \"App\": \"Other\", \"Count\": 94}, {\"Day\": \"01/14/2018\", \"App\": \"Other\", \"Count\": 87}, {\"Day\": \"01/15/2018\", \"App\": \"Other\", \"Count\": 0}, {\"Day\": \"01/08/2018\", \"App\": \"Uber\", \"Count\": 1025}, {\"Day\": \"01/09/2018\", \"App\": \"Uber\", \"Count\": 804}, {\"Day\": \"01/10/2018\", \"App\": \"Uber\", \"Count\": 723}, {\"Day\": \"01/11/2018\", \"App\": \"Uber\", \"Count\": 779}, {\"Day\": \"01/12/2018\", \"App\": \"Uber\", \"Count\": 706}, {\"Day\": \"01/13/2018\", \"App\": \"Uber\", \"Count\": 742}, {\"Day\": \"01/14/2018\", \"App\": \"Uber\", \"Count\": 861}, {\"Day\": \"01/15/2018\", \"App\": \"Uber\", \"Count\": 0}, {\"Day\": \"01/08/2018\", \"App\": \"Via\", \"Count\": 48}, {\"Day\": \"01/09/2018\", \"App\": \"Via\", \"Count\": 44}, {\"Day\": \"01/10/2018\", \"App\": \"Via\", \"Count\": 37}, {\"Day\": \"01/11/2018\", \"App\": \"Via\", \"Count\": 35}, {\"Day\": \"01/12/2018\", \"App\": \"Via\", \"Count\": 30}, {\"Day\": \"01/13/2018\", \"App\": \"Via\", \"Count\": 35}, {\"Day\": \"01/14/2018\", \"App\": \"Via\", \"Count\": 39}]}};\n",
       "const opt = {};\n",
       "const type = \"vega-lite\";\n",
       "const id = \"4749ef35-4981-43c3-91c6-c901842a3eb8\";\n",
       "\n",
       "const output_area = this;\n",
       "\n",
       "require([\"nbextensions/jupyter-vega/index\"], function(vega) {\n",
       "  const target = document.createElement(\"div\");\n",
       "  target.id = id;\n",
       "  target.className = \"vega-embed\";\n",
       "\n",
       "  const style = document.createElement(\"style\");\n",
       "  style.textContent = [\n",
       "    \".vega-embed .error p {\",\n",
       "    \"  color: firebrick;\",\n",
       "    \"  font-size: 14px;\",\n",
       "    \"}\",\n",
       "  ].join(\"\\\\n\");\n",
       "\n",
       "  // element is a jQuery wrapped DOM element inside the output area\n",
       "  // see http://ipython.readthedocs.io/en/stable/api/generated/\\\n",
       "  // IPython.display.html#IPython.display.Javascript.__init__\n",
       "  element[0].appendChild(target);\n",
       "  element[0].appendChild(style);\n",
       "\n",
       "  vega.render(\"#\" + id, spec, type, opt, output_area);\n",
       "}, function (err) {\n",
       "  if (err.requireType !== \"scripterror\") {\n",
       "    throw(err);\n",
       "  }\n",
       "});\n"
      ],
      "text/plain": [
       "<vega.vegalite.VegaLite at 0x1275aef28>"
      ]
     },
     "metadata": {
      "jupyter-vega": "#4749ef35-4981-43c3-91c6-c901842a3eb8"
     },
     "output_type": "display_data"
    },
    {
     "data": {
      "text/plain": []
     },
     "execution_count": 112,
     "metadata": {},
     "output_type": "execute_result"
    },
    {
     "data": {
      "image/png": "[encoded data removed]"
     },
     "metadata": {
      "jupyter-vega": "#4749ef35-4981-43c3-91c6-c901842a3eb8"
     },
     "output_type": "display_data"
    }
   ],
   "source": [
    "src = trip_type_1\n",
    "brush = alt.selection(type='interval', encodings=['x'], clear=False)\n",
    "\n",
    "base = alt.Chart(src, title=\"Shared Trip Trend By App\").mark_line().encode(\n",
    "    alt.X('Day:T', scale=alt.Scale(domain=brush)),\n",
    "    alt.Y('Count', title=\" \")\n",
    ")\n",
    "\n",
    "columns=App\n",
    "\n",
    "# A dropdown filter\n",
    "column_dropdown = alt.binding_select(options=columns)\n",
    "column_select = alt.selection_single(\n",
    "    fields=['App'],\n",
    "    on='doubleclick',\n",
    "    clear=False, \n",
    "    bind=column_dropdown, \n",
    "    name=\"Company\",\n",
    "    init={'App': \"Uber\"}\n",
    ")\n",
    "\n",
    "\n",
    "#Specify the top chart as a modification of the base chart\n",
    "filter_columns = base.add_selection(\n",
    "    column_select\n",
    ").transform_filter(\n",
    "    column_select\n",
    ").properties(\n",
    "    height=240,\n",
    "    width = 600\n",
    ")\n",
    "\n",
    "\n",
    "#Specify the lower chart as a modification of the base chart\n",
    "lower = filter_columns.add_selection(\n",
    "    column_select\n",
    ").transform_filter(\n",
    "    column_select\n",
    ").properties(\n",
    "    height=60,\n",
    "    width = 600\n",
    ").add_selection(brush)\n",
    "\n",
    "filter_columns & lower"
   ]
  },
  {
   "cell_type": "code",
   "execution_count": null,
   "metadata": {},
   "outputs": [],
   "source": []
  }
 ],
 "metadata": {
  "kernelspec": {
   "display_name": "Python 3",
   "language": "python",
   "name": "python3"
  },
  "language_info": {
   "codemirror_mode": {
    "name": "ipython",
    "version": 3
   },
   "file_extension": ".py",
   "mimetype": "text/x-python",
   "name": "python",
   "nbconvert_exporter": "python",
   "pygments_lexer": "ipython3",
   "version": "3.6.8"
  }
 },
 "nbformat": 4,
 "nbformat_minor": 2
}
